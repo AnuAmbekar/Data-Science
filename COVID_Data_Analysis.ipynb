{
 "cells": [
  {
   "cell_type": "markdown",
   "metadata": {},
   "source": [
    "# <span style=\"color:#0b486b\">SIT 112 - Data Science Concepts - Assignment 1</span>\n",
    "\n",
    "---\n",
    "Lecturer: Sergiy Shelyag | sergiy.shelyag@deakin.edu.au<br />\n",
    "\n",
    "School of Information Technology, <br />\n",
    "Deakin University, VIC 3215, Australia.\n",
    "\n",
    "### <span style=\"color:#0b486b\">Due: 8pm, Friday 16th April 2021</span>\n",
    "\n",
    "---"
   ]
  },
  {
   "cell_type": "markdown",
   "metadata": {},
   "source": [
    "### <span style=\"color:#0b486b\">Instructions</span>\n",
    "\n",
    "This notebook has been prepared for you to complete Assignment 1. Some sections have been pre-filled  to help you get started. **The total mark for this programming task is 65**.\n",
    "\n",
    "1. Before you start, read the entire notebook carefully to understand what you need to do. You should also refer to the main instructions in *Assignment1_instructions.pdf*  to know what else you need to complete for this assignment.\n",
    "2. For each cell marked with *#INSERT YOUR CODE HERE*, you must write your own code in this cell.\n",
    "3. For each cell marked with *#INSERT YOUR COMMENT HERE*, you must write your own explanatory comment in this cell.\n",
    "4. At the end, you must run the entire notebook and submit two files:\n",
    " 1. The source of your solution notebook: [YourID]_assignment1_solution.ipynb\n",
    " 2. And an exported version of your output: [YourID]_assignment1_output.html  \n",
    "       \n",
    "For example, if your student ID is 123456, then you need submit two files:\n",
    "\n",
    "1. **123456_assignment1_solution.ipynb**\n",
    "2. and **123456_assignment1_output.html**\n",
    "\n",
    "As you go through this notebook:\n",
    "\n",
    "* markdown cells marked with **Note** mean description sections.\n",
    "* markdown cells marked with **Instructions** mean the instructions given to you to complete the sections.\n",
    "\n",
    "***If an instruction is not clear, please contact the unit chair or the teaching team as soon as possible.***\n"
   ]
  },
  {
   "cell_type": "code",
   "execution_count": 105,
   "metadata": {},
   "outputs": [],
   "source": [
    "#\n",
    "# Import packages needed for processing\n",
    "#\n",
    "   # import the numpy package\n",
    "import numpy as np\n",
    "import csv           # this package needed for processing csv file\n",
    "from collections import Counter  # this is for dictionary construction with counting functionality\n",
    "import matplotlib.pyplot as plt  # this is for plotting and other descriptive statistics\n",
    "import datetime      # this package is for handling time\n",
    "#\n",
    "# If you need add any additional packages, then add them below this line\n",
    "#\n",
    "\n",
    "import pandas as pd\n",
    "import seaborn as sns\n",
    "import re\n",
    "%matplotlib inline"
   ]
  },
  {
   "cell_type": "markdown",
   "metadata": {},
   "source": [
    "**Note**: you must place your data file in the same folder with your python notebook."
   ]
  },
  {
   "cell_type": "code",
   "execution_count": 3,
   "metadata": {},
   "outputs": [],
   "source": [
    "# Declare the path to the data file\n",
    "DATA_FILE = \"owid-covid-data.csv\"\n",
    "df = pd.read_csv(\"C://Users/anurag/Documents/Data Science/Assignment_1/owid-covid-data.csv\")"
   ]
  },
  {
   "cell_type": "markdown",
   "metadata": {},
   "source": [
    "**Note**. The following segment of codes is to load the data from the .csv file using csv package. It has been provided for you to get started. Please **do not** change this piece of code as well the variable names as we will need these variables to complete subsequent tasks. "
   ]
  },
  {
   "cell_type": "code",
   "execution_count": 76,
   "metadata": {},
   "outputs": [
    {
     "name": "stdout",
     "output_type": "stream",
     "text": [
      "dict_keys(['iso_code', 'continent', 'location', 'date', 'total_cases', 'new_cases', 'new_cases_smoothed', 'total_deaths', 'new_deaths', 'new_deaths_smoothed', 'total_cases_per_million', 'new_cases_per_million', 'new_cases_smoothed_per_million', 'total_deaths_per_million', 'new_deaths_per_million', 'new_deaths_smoothed_per_million', 'reproduction_rate', 'icu_patients', 'icu_patients_per_million', 'hosp_patients', 'hosp_patients_per_million', 'weekly_icu_admissions', 'weekly_icu_admissions_per_million', 'weekly_hosp_admissions', 'weekly_hosp_admissions_per_million', 'new_tests', 'total_tests', 'total_tests_per_thousand', 'new_tests_per_thousand', 'new_tests_smoothed', 'new_tests_smoothed_per_thousand', 'positive_rate', 'tests_per_case', 'tests_units', 'total_vaccinations', 'people_vaccinated', 'people_fully_vaccinated', 'new_vaccinations', 'new_vaccinations_smoothed', 'total_vaccinations_per_hundred', 'people_vaccinated_per_hundred', 'people_fully_vaccinated_per_hundred', 'new_vaccinations_smoothed_per_million', 'stringency_index', 'population', 'population_density', 'median_age', 'aged_65_older', 'aged_70_older', 'gdp_per_capita', 'extreme_poverty', 'cardiovasc_death_rate', 'diabetes_prevalence', 'female_smokers', 'male_smokers', 'handwashing_facilities', 'hospital_beds_per_thousand', 'life_expectancy', 'human_development_index'])\n"
     ]
    },
    {
     "ename": "NameError",
     "evalue": "name 'np' is not defined",
     "output_type": "error",
     "traceback": [
      "\u001b[1;31m---------------------------------------------------------------------------\u001b[0m",
      "\u001b[1;31mNameError\u001b[0m                                 Traceback (most recent call last)",
      "\u001b[1;32m<ipython-input-76-98cb2ce45e23>\u001b[0m in \u001b[0;36m<module>\u001b[1;34m\u001b[0m\n\u001b[0;32m     17\u001b[0m \u001b[1;33m\u001b[0m\u001b[0m\n\u001b[0;32m     18\u001b[0m \u001b[1;32mfor\u001b[0m \u001b[0mk\u001b[0m\u001b[1;33m,\u001b[0m \u001b[0mv\u001b[0m \u001b[1;32min\u001b[0m \u001b[0mdata_dict\u001b[0m\u001b[1;33m.\u001b[0m\u001b[0mitems\u001b[0m\u001b[1;33m(\u001b[0m\u001b[1;33m)\u001b[0m\u001b[1;33m:\u001b[0m\u001b[1;33m\u001b[0m\u001b[1;33m\u001b[0m\u001b[0m\n\u001b[1;32m---> 19\u001b[1;33m     \u001b[0mdata_dict\u001b[0m\u001b[1;33m[\u001b[0m\u001b[0mk\u001b[0m\u001b[1;33m]\u001b[0m \u001b[1;33m=\u001b[0m \u001b[0mnp\u001b[0m\u001b[1;33m.\u001b[0m\u001b[0marray\u001b[0m\u001b[1;33m(\u001b[0m\u001b[0mv\u001b[0m\u001b[1;33m)\u001b[0m\u001b[1;33m\u001b[0m\u001b[1;33m\u001b[0m\u001b[0m\n\u001b[0m",
      "\u001b[1;31mNameError\u001b[0m: name 'np' is not defined"
     ]
    }
   ],
   "source": [
    "# Load CSV file using DictReader\n",
    "input_file = csv.DictReader(open(DATA_FILE))\n",
    "fieldnames = input_file.fieldnames\n",
    "data_dict = {fn: [] for fn in fieldnames}\n",
    "print(data_dict.keys())\n",
    "for line in input_file:\n",
    "    for k, v in line.items():\n",
    "        if (v == ''): #quick fix for missing values\n",
    "            v=0\n",
    "        try:\n",
    "            data_dict[k].append(int(v))\n",
    "        except ValueError:\n",
    "            try:\n",
    "                data_dict[k].append(float(v))\n",
    "            except ValueError:\n",
    "                data_dict[k].append(v)\n",
    "                \n",
    "for k, v in data_dict.items():\n",
    "    data_dict[k] = np.array(v)"
   ]
  },
  {
   "cell_type": "markdown",
   "metadata": {},
   "source": [
    "---\n",
    "## **Instruction 1**\n",
    "We first examine the variables and the overall data size. The tasks:\n",
    "\n",
    "1. Write your code to print the type for the following variables (**4 marks**):\n",
    "    * input_file\n",
    "    * data_dict\n",
    "    * data_dict['iso_code']\n",
    "    * data_dict['reproduction_rate']\n",
    "\n",
    "\n",
    "2. Write your code to print out the number of data records (**1 mark**):\n",
    "\n",
    "[**Total mark: 5**]"
   ]
  },
  {
   "cell_type": "code",
   "execution_count": 103,
   "metadata": {
    "scrolled": true
   },
   "outputs": [
    {
     "name": "stdout",
     "output_type": "stream",
     "text": [
      "<class 'csv.DictReader'>\n",
      "<class 'dict'>\n",
      "<class 'list'>\n",
      "<class 'list'>\n"
     ]
    }
   ],
   "source": [
    "# INSERT YOUR CODE HERE\n",
    "#\n",
    "#1. Write you code to print the type for the following variables:\n",
    "#    * input_file\n",
    "#    * data_dict\n",
    "#    * data_dict['iso_code']\n",
    "#    * data_dict['reproduction_rate']\n",
    "#\n",
    "\n",
    "a=type(input_file)\n",
    "b=type(data_dict)\n",
    "c=type(data_dict[\"iso_code\"])\n",
    "d=type(data_dict[\"reproduction_rate\"])\n",
    "\n",
    "print(a)\n",
    "print(b)\n",
    "print(c)\n",
    "print(d)"
   ]
  },
  {
   "cell_type": "code",
   "execution_count": 102,
   "metadata": {},
   "outputs": [
    {
     "data": {
      "text/plain": [
       "74866"
      ]
     },
     "execution_count": 102,
     "metadata": {},
     "output_type": "execute_result"
    }
   ],
   "source": [
    "len(df)"
   ]
  },
  {
   "cell_type": "markdown",
   "metadata": {},
   "source": [
    "---\n",
    "## Instruction 2\n",
    "The following code segment is designed to calculate some basic statistics from the data for a recent date. The data is stored in **data_filtered_by_date** dictionary.\n",
    "\n",
    "**Your task:**\n",
    "1. Learn how the code, which extracts the data for all countries at a required date, works. Why **try-except** construction is required in this code? Provide the answer. (**2 marks**)\n",
    "1. Write your code to find and print the minimum and the maximum values of mortality per million in the **total_deaths_per_million** column. (**1 mark**)\n",
    "2. Write your code to find and print the minimum and the maximum values of cases per million in the **total_cases_per_million** column. (**1 mark**)\n",
    "3. Write your code to find and print the mean and median mortality per million, and the standard deviation from the **total_deaths_per_million** column. (**2 marks**)\n",
    "4. Write your code to construct a box plot for the **total_deaths_per_million**. (**2 marks**) \n",
    "4. You will find that mean and median values for mortality are quite different. Briefly describe the meaning of the difference between the mean and median mortality per million. Why are they different? (**2 marks**)\n",
    "\n",
    "**[Total mark: 10]**"
   ]
  },
  {
   "cell_type": "code",
   "execution_count": 79,
   "metadata": {},
   "outputs": [],
   "source": [
    "# THIS PART EXTRACTS THE DATA FOR ALL COUNTRIES AT A REQUIRED DATE.\n",
    "# LEARN HOW IT WORKS.\n",
    "# data_filtered_by_date DICTIONARY CONTAINS ALL DATA FOR ALL COUNTRIES AT required_date\n",
    "\n",
    "required_date = '2021-03-09'\n",
    "\n",
    "index_for_date = (data_dict['date'] == required_date)\n",
    "data_filtered_by_date = {}\n",
    "for key in data_dict.keys():\n",
    "    try:\n",
    "        data_filtered_by_date[key] = np.float_(data_dict[key][index_for_date])\n",
    "    except:\n",
    "        data_filtered_by_date[key] = data_dict[key][index_for_date]"
   ]
  },
  {
   "cell_type": "code",
   "execution_count": null,
   "metadata": {},
   "outputs": [],
   "source": [
    "# 1. Why **try-except** construction is required in this code? (2 marks)\n",
    "\n",
    "\n",
    "#The try-except code is required because the code under \"try\" is code that is raising an error. \n",
    "#The code under \"except\" handles that error.\n",
    "\n",
    "#There is a for loop above the try-except construction. Under \"try\", it tries to go through the values in the data_filtered_by_date_list.\n",
    "#It then tries to turn the value of the key of the index_for_date to a float value. This is the error.\n",
    "#The except method corrects this, handling the error that is \"np.float\". This gets removed under \"except\"."
   ]
  },
  {
   "cell_type": "code",
   "execution_count": 106,
   "metadata": {},
   "outputs": [
    {
     "name": "stdout",
     "output_type": "stream",
     "text": [
      "0.001\n",
      "2268.843\n"
     ]
    }
   ],
   "source": [
    "#QUESTION 2\n",
    "\n",
    "a = df[\"total_deaths_per_million\"].min()\n",
    "b = df[\"total_deaths_per_million\"].max()\n",
    "\n",
    "print(a)\n",
    "print(b)"
   ]
  },
  {
   "cell_type": "code",
   "execution_count": 86,
   "metadata": {},
   "outputs": [
    {
     "name": "stdout",
     "output_type": "stream",
     "text": [
      "0.001\n",
      "145809.875\n"
     ]
    }
   ],
   "source": [
    "#QUESTION 3\n",
    "\n",
    "a=df[\"total_cases_per_million\"].min()\n",
    "b=df[\"total_cases_per_million\"].max()\n",
    "\n",
    "print(a)\n",
    "print(b)"
   ]
  },
  {
   "cell_type": "code",
   "execution_count": 107,
   "metadata": {},
   "outputs": [
    {
     "name": "stdout",
     "output_type": "stream",
     "text": [
      "182.77924778085065\n",
      "31.213\n",
      "325.18139173420343\n"
     ]
    }
   ],
   "source": [
    "#QUESTION 4\n",
    "\n",
    "a=df[\"total_deaths_per_million\"].mean()\n",
    "b=df[\"total_deaths_per_million\"].median()\n",
    "c=df[\"total_deaths_per_million\"].std()\n",
    "\n",
    "print(a)\n",
    "print(b)\n",
    "print(c)"
   ]
  },
  {
   "cell_type": "code",
   "execution_count": 108,
   "metadata": {},
   "outputs": [
    {
     "data": {
      "text/plain": [
       "<matplotlib.axes._subplots.AxesSubplot at 0x1efbb84ba08>"
      ]
     },
     "execution_count": 108,
     "metadata": {},
     "output_type": "execute_result"
    },
    {
     "data": {
      "image/png": "[encoded data removed]",
      "text/plain": [
       "<Figure size 432x288 with 1 Axes>"
      ]
     },
     "metadata": {
      "needs_background": "light"
     },
     "output_type": "display_data"
    }
   ],
   "source": [
    "#QUESTION 5\n",
    "\n",
    "sns.boxplot(x=df[\"total_deaths_per_million\"], data=df)"
   ]
  },
  {
   "cell_type": "code",
   "execution_count": 90,
   "metadata": {},
   "outputs": [],
   "source": [
    "#QUESTION 6\n",
    "\n",
    "# MEAN: when all the values in a dataset are added and then divided by however many values there are in the dataset.\n",
    "# MEDIAN: the median is the value that is in the middle of the dataset."
   ]
  },
  {
   "cell_type": "markdown",
   "metadata": {},
   "source": [
    "---\n",
    "## **Instruction 3**\n",
    "This part of the assignment is designed to examine COVID cases and mortality data for different countries. The countries are given by their ISO alpha-3 codes, given here: https://en.wikipedia.org/wiki/ISO_3166-1_alpha-3 .\n",
    "As in the previous task, we will be using **total_cases_per_million** and **total_deaths_per_million** columns.\n",
    "\n",
    "**Your tasks**:\n",
    "\n",
    "1. Write your code to find and print out the number of countries in the dataset. (**1 mark**)\n",
    "2. Population mortality from seasonal influenza is generally thought to be about 0.01% (1 death per 10000 people). Write your code to find and print out the list of countries with the population mortality greater than ten times of the population mortality of seasonal influenza. (**2 marks**)\n",
    "3. Write your code to find and print out the country with the highest population mortality. Both the country code and the mortality value for this country need to be printed out (**2 marks**)\n",
    "4. Write your code to construct a dictionary variable ***data_large_countries*** whose keys are **iso_code**, **total_cases_per_million**, **total_deaths_per_million**, **population**, **population_density**. You can start from the original dataset **data_dict**. You can adapt the code given to you in Instruction 2. Print the dictionary. (**2 marks**)\n",
    "5. Using the new dictionary ***data_large_countries***, plot a bar chart of mortality sorted in descending order of values for the countries with **population** more than 1 million, achieving first twenty places of leadership in exterminating their own population. (**3 marks**)\n",
    "6. Using the same dictionary, plot a bar chart of population density for the mortality leaders. Use the same order of countries as in Task 5. (**3 marks**)\n",
    "7. Discuss the bar charts. Which conclusion you can draw, if you look at all of them together? (**2 marks**)\n",
    "\n",
    "[**Total mark: 15**]"
   ]
  },
  {
   "cell_type": "code",
   "execution_count": 91,
   "metadata": {},
   "outputs": [
    {
     "data": {
      "text/plain": [
       "215"
      ]
     },
     "execution_count": 91,
     "metadata": {},
     "output_type": "execute_result"
    }
   ],
   "source": [
    "#QUESTION 1\n",
    "\n",
    "df2 = df[\"iso_code\"].unique()\n",
    "len(df2)"
   ]
  },
  {
   "cell_type": "code",
   "execution_count": 73,
   "metadata": {},
   "outputs": [
    {
     "name": "stdout",
     "output_type": "stream",
     "text": [
      "BDI, TZA, VNM, TWN, MNG, THA, BTN, ERI, FJI, PNG, CHN, SGP, NZL, BEN, BRN, BFA, UGA, NER, GIN, MUS, CIV, COD, GRD, SSD, TCD, TJK, NGA, SLE, TGO, MDG, CAF, AGO, LBR, MLI, UZB, RWA, HTI, GHA, ETH, OWID_OCE, CMR, SOM, YEM, MOZ, COG, LKA, NIC, GNB, CUB, KOR, KEN, AUS, MYS, GAB, SDN, VEN, BGD, MWI, SEN, MMR, PAK, SYR, ZMB, AFG, GMB, DJI, JPN, DZA, GNQ, OWID_AFR, VCT, ISL, OWID_ASI, QAT, MRT, TTO, ZWE, NPL, EGY, IND, PHL, NOR, MDV, BRB, IDN, ARE, FIN, LSO, STP, SYC, JAM, COM, KAZ, NAM, BWA, SAU, URY, BLR, KGZ, MAR, GUY, CYP, KWT, ATG, LCA, CPV, BHR, DOM, SUR, SLV, OMN, AZE, OWID_WRL, IRQ, LBY, TUR, GTM, DNK, HND, PSE, BHS, PRY, JOR, EST, CRI, SWZ, CAN, RUS, GRC, UKR, MCO, SRB, ISR, TUN, ALB, IRN, LBN, BLZ, MLT, ZAF, OWID_KOS, DEU, GEO, IRL, ECU, LVA, NLD, AUT, BOL, MDA, LUX, ARM, ROU, CHL, OWID_EUR, OWID_SAM, CHE, ARG, COL, POL, LTU, OWID_EUN, SWE, BRA, OWID_NAM, HRV, FRA, PAN, LIE, AND, PER, MEX, ESP, SVK, MKD, USA, BGR, PRT, BIH, ITA, HUN, MNE, GBR, SVN, BEL, CZE, SMR, "
     ]
    }
   ],
   "source": [
    "#QUESTION 2\n",
    "\n",
    "df1 = df.loc[(df[\"total_deaths_per_million\"] > 0.1)]\n",
    "d = df1.groupby(\"iso_code\").max().sort_values(\"total_deaths_per_million\", ascending=True)\n",
    "\n",
    "for row, index in d.iterrows():\n",
    "    print(row, end=\", \")"
   ]
  },
  {
   "cell_type": "code",
   "execution_count": 42,
   "metadata": {},
   "outputs": [
    {
     "name": "stdout",
     "output_type": "stream",
     "text": [
      "SMR 2268.843\n"
     ]
    }
   ],
   "source": [
    "#QUESTION 3\n",
    "\n",
    "df3 = df1.groupby(\"iso_code\").max().sort_values(\"total_deaths_per_million\", ascending=True)\n",
    "dff = df3.tail(1)\n",
    "\n",
    "for row, index in dff.iterrows():\n",
    "    print(row, index[12])"
   ]
  },
  {
   "cell_type": "code",
   "execution_count": 92,
   "metadata": {
    "scrolled": true
   },
   "outputs": [
    {
     "data": {
      "text/html": [
       "<div>\n",
       "<style scoped>\n",
       "    .dataframe tbody tr th:only-of-type {\n",
       "        vertical-align: middle;\n",
       "    }\n",
       "\n",
       "    .dataframe tbody tr th {\n",
       "        vertical-align: top;\n",
       "    }\n",
       "\n",
       "    .dataframe thead th {\n",
       "        text-align: right;\n",
       "    }\n",
       "</style>\n",
       "<table border=\"1\" class=\"dataframe\">\n",
       "  <thead>\n",
       "    <tr style=\"text-align: right;\">\n",
       "      <th></th>\n",
       "      <th>iso_code</th>\n",
       "      <th>total_cases_per_million</th>\n",
       "      <th>total_deaths_per_million</th>\n",
       "      <th>population</th>\n",
       "      <th>population_density</th>\n",
       "    </tr>\n",
       "  </thead>\n",
       "  <tbody>\n",
       "    <tr>\n",
       "      <td>33</td>\n",
       "      <td>AFG</td>\n",
       "      <td>2.749</td>\n",
       "      <td>0.103</td>\n",
       "      <td>38928341.0</td>\n",
       "      <td>54.422</td>\n",
       "    </tr>\n",
       "    <tr>\n",
       "      <td>34</td>\n",
       "      <td>AFG</td>\n",
       "      <td>3.031</td>\n",
       "      <td>0.103</td>\n",
       "      <td>38928341.0</td>\n",
       "      <td>54.422</td>\n",
       "    </tr>\n",
       "    <tr>\n",
       "      <td>35</td>\n",
       "      <td>AFG</td>\n",
       "      <td>3.750</td>\n",
       "      <td>0.103</td>\n",
       "      <td>38928341.0</td>\n",
       "      <td>54.422</td>\n",
       "    </tr>\n",
       "    <tr>\n",
       "      <td>36</td>\n",
       "      <td>AFG</td>\n",
       "      <td>4.495</td>\n",
       "      <td>0.103</td>\n",
       "      <td>38928341.0</td>\n",
       "      <td>54.422</td>\n",
       "    </tr>\n",
       "    <tr>\n",
       "      <td>37</td>\n",
       "      <td>AFG</td>\n",
       "      <td>5.061</td>\n",
       "      <td>0.103</td>\n",
       "      <td>38928341.0</td>\n",
       "      <td>54.422</td>\n",
       "    </tr>\n",
       "  </tbody>\n",
       "</table>\n",
       "</div>"
      ],
      "text/plain": [
       "   iso_code  total_cases_per_million  total_deaths_per_million  population  \\\n",
       "33      AFG                    2.749                     0.103  38928341.0   \n",
       "34      AFG                    3.031                     0.103  38928341.0   \n",
       "35      AFG                    3.750                     0.103  38928341.0   \n",
       "36      AFG                    4.495                     0.103  38928341.0   \n",
       "37      AFG                    5.061                     0.103  38928341.0   \n",
       "\n",
       "    population_density  \n",
       "33              54.422  \n",
       "34              54.422  \n",
       "35              54.422  \n",
       "36              54.422  \n",
       "37              54.422  "
      ]
     },
     "execution_count": 92,
     "metadata": {},
     "output_type": "execute_result"
    }
   ],
   "source": [
    "#QUESTION 4\n",
    "\n",
    "data_large_countries = pd.DataFrame({\n",
    "    \"iso_code\" : df1[\"iso_code\"],\n",
    "    \"total_cases_per_million\": df1[\"total_cases_per_million\"],\n",
    "    \"total_deaths_per_million\": df1[\"total_deaths_per_million\"],\n",
    "    \"population\": df1[\"population\"],\n",
    "    \"population_density\": df1[\"population_density\"]\n",
    "})\n",
    "\n",
    "data_large_countries.head()"
   ]
  },
  {
   "cell_type": "code",
   "execution_count": 46,
   "metadata": {},
   "outputs": [
    {
     "data": {
      "text/html": [
       "<div>\n",
       "<style scoped>\n",
       "    .dataframe tbody tr th:only-of-type {\n",
       "        vertical-align: middle;\n",
       "    }\n",
       "\n",
       "    .dataframe tbody tr th {\n",
       "        vertical-align: top;\n",
       "    }\n",
       "\n",
       "    .dataframe thead th {\n",
       "        text-align: right;\n",
       "    }\n",
       "</style>\n",
       "<table border=\"1\" class=\"dataframe\">\n",
       "  <thead>\n",
       "    <tr style=\"text-align: right;\">\n",
       "      <th></th>\n",
       "      <th>total_cases_per_million</th>\n",
       "      <th>total_deaths_per_million</th>\n",
       "      <th>population</th>\n",
       "      <th>population_density</th>\n",
       "    </tr>\n",
       "    <tr>\n",
       "      <th>iso_code</th>\n",
       "      <th></th>\n",
       "      <th></th>\n",
       "      <th></th>\n",
       "      <th></th>\n",
       "    </tr>\n",
       "  </thead>\n",
       "  <tbody>\n",
       "    <tr>\n",
       "      <td>CZE</td>\n",
       "      <td>130645.284</td>\n",
       "      <td>2168.834</td>\n",
       "      <td>10708982.0</td>\n",
       "      <td>137.176</td>\n",
       "    </tr>\n",
       "    <tr>\n",
       "      <td>BEL</td>\n",
       "      <td>69742.000</td>\n",
       "      <td>1936.302</td>\n",
       "      <td>11589616.0</td>\n",
       "      <td>375.564</td>\n",
       "    </tr>\n",
       "    <tr>\n",
       "      <td>SVN</td>\n",
       "      <td>96383.143</td>\n",
       "      <td>1892.318</td>\n",
       "      <td>2078932.0</td>\n",
       "      <td>102.619</td>\n",
       "    </tr>\n",
       "    <tr>\n",
       "      <td>GBR</td>\n",
       "      <td>62924.753</td>\n",
       "      <td>1852.414</td>\n",
       "      <td>67886004.0</td>\n",
       "      <td>272.898</td>\n",
       "    </tr>\n",
       "    <tr>\n",
       "      <td>HUN</td>\n",
       "      <td>53464.937</td>\n",
       "      <td>1754.802</td>\n",
       "      <td>9660350.0</td>\n",
       "      <td>108.043</td>\n",
       "    </tr>\n",
       "    <tr>\n",
       "      <td>ITA</td>\n",
       "      <td>53308.709</td>\n",
       "      <td>1689.413</td>\n",
       "      <td>60461828.0</td>\n",
       "      <td>205.859</td>\n",
       "    </tr>\n",
       "    <tr>\n",
       "      <td>BIH</td>\n",
       "      <td>43330.697</td>\n",
       "      <td>1659.953</td>\n",
       "      <td>3280815.0</td>\n",
       "      <td>68.496</td>\n",
       "    </tr>\n",
       "    <tr>\n",
       "      <td>PRT</td>\n",
       "      <td>79854.898</td>\n",
       "      <td>1636.215</td>\n",
       "      <td>10196707.0</td>\n",
       "      <td>112.371</td>\n",
       "    </tr>\n",
       "    <tr>\n",
       "      <td>BGR</td>\n",
       "      <td>40089.113</td>\n",
       "      <td>1624.104</td>\n",
       "      <td>6948445.0</td>\n",
       "      <td>65.180</td>\n",
       "    </tr>\n",
       "    <tr>\n",
       "      <td>USA</td>\n",
       "      <td>88938.186</td>\n",
       "      <td>1615.963</td>\n",
       "      <td>331002647.0</td>\n",
       "      <td>35.608</td>\n",
       "    </tr>\n",
       "    <tr>\n",
       "      <td>MKD</td>\n",
       "      <td>54068.869</td>\n",
       "      <td>1593.084</td>\n",
       "      <td>2083380.0</td>\n",
       "      <td>82.600</td>\n",
       "    </tr>\n",
       "    <tr>\n",
       "      <td>SVK</td>\n",
       "      <td>61817.778</td>\n",
       "      <td>1562.007</td>\n",
       "      <td>5459643.0</td>\n",
       "      <td>113.128</td>\n",
       "    </tr>\n",
       "    <tr>\n",
       "      <td>ESP</td>\n",
       "      <td>68539.105</td>\n",
       "      <td>1545.468</td>\n",
       "      <td>46754783.0</td>\n",
       "      <td>93.105</td>\n",
       "    </tr>\n",
       "    <tr>\n",
       "      <td>MEX</td>\n",
       "      <td>16801.704</td>\n",
       "      <td>1510.167</td>\n",
       "      <td>128932753.0</td>\n",
       "      <td>66.444</td>\n",
       "    </tr>\n",
       "    <tr>\n",
       "      <td>PER</td>\n",
       "      <td>42701.977</td>\n",
       "      <td>1481.294</td>\n",
       "      <td>32971846.0</td>\n",
       "      <td>25.129</td>\n",
       "    </tr>\n",
       "    <tr>\n",
       "      <td>PAN</td>\n",
       "      <td>80634.463</td>\n",
       "      <td>1389.182</td>\n",
       "      <td>4314768.0</td>\n",
       "      <td>55.133</td>\n",
       "    </tr>\n",
       "    <tr>\n",
       "      <td>FRA</td>\n",
       "      <td>63300.930</td>\n",
       "      <td>1387.745</td>\n",
       "      <td>65273512.0</td>\n",
       "      <td>122.578</td>\n",
       "    </tr>\n",
       "    <tr>\n",
       "      <td>HRV</td>\n",
       "      <td>61151.915</td>\n",
       "      <td>1382.857</td>\n",
       "      <td>4105268.0</td>\n",
       "      <td>73.726</td>\n",
       "    </tr>\n",
       "    <tr>\n",
       "      <td>OWID_NAM</td>\n",
       "      <td>57250.372</td>\n",
       "      <td>1315.767</td>\n",
       "      <td>592072204.0</td>\n",
       "      <td>NaN</td>\n",
       "    </tr>\n",
       "    <tr>\n",
       "      <td>BRA</td>\n",
       "      <td>54024.285</td>\n",
       "      <td>1308.947</td>\n",
       "      <td>212559409.0</td>\n",
       "      <td>25.040</td>\n",
       "    </tr>\n",
       "  </tbody>\n",
       "</table>\n",
       "</div>"
      ],
      "text/plain": [
       "          total_cases_per_million  total_deaths_per_million   population  \\\n",
       "iso_code                                                                   \n",
       "CZE                    130645.284                  2168.834   10708982.0   \n",
       "BEL                     69742.000                  1936.302   11589616.0   \n",
       "SVN                     96383.143                  1892.318    2078932.0   \n",
       "GBR                     62924.753                  1852.414   67886004.0   \n",
       "HUN                     53464.937                  1754.802    9660350.0   \n",
       "ITA                     53308.709                  1689.413   60461828.0   \n",
       "BIH                     43330.697                  1659.953    3280815.0   \n",
       "PRT                     79854.898                  1636.215   10196707.0   \n",
       "BGR                     40089.113                  1624.104    6948445.0   \n",
       "USA                     88938.186                  1615.963  331002647.0   \n",
       "MKD                     54068.869                  1593.084    2083380.0   \n",
       "SVK                     61817.778                  1562.007    5459643.0   \n",
       "ESP                     68539.105                  1545.468   46754783.0   \n",
       "MEX                     16801.704                  1510.167  128932753.0   \n",
       "PER                     42701.977                  1481.294   32971846.0   \n",
       "PAN                     80634.463                  1389.182    4314768.0   \n",
       "FRA                     63300.930                  1387.745   65273512.0   \n",
       "HRV                     61151.915                  1382.857    4105268.0   \n",
       "OWID_NAM                57250.372                  1315.767  592072204.0   \n",
       "BRA                     54024.285                  1308.947  212559409.0   \n",
       "\n",
       "          population_density  \n",
       "iso_code                      \n",
       "CZE                  137.176  \n",
       "BEL                  375.564  \n",
       "SVN                  102.619  \n",
       "GBR                  272.898  \n",
       "HUN                  108.043  \n",
       "ITA                  205.859  \n",
       "BIH                   68.496  \n",
       "PRT                  112.371  \n",
       "BGR                   65.180  \n",
       "USA                   35.608  \n",
       "MKD                   82.600  \n",
       "SVK                  113.128  \n",
       "ESP                   93.105  \n",
       "MEX                   66.444  \n",
       "PER                   25.129  \n",
       "PAN                   55.133  \n",
       "FRA                  122.578  \n",
       "HRV                   73.726  \n",
       "OWID_NAM                 NaN  \n",
       "BRA                   25.040  "
      ]
     },
     "execution_count": 46,
     "metadata": {},
     "output_type": "execute_result"
    }
   ],
   "source": [
    "#WORKING OUT FOR QUESTION 5. TOP 20 COUNTRIES WITH HIGHEST MORTALITY RATE AND POPULATION MORE THAN A MILLION.\n",
    "df3 = data_large_countries.loc[(data_large_countries[\"population\"] > 1000000)]\n",
    "df4 = df3.groupby(\"iso_code\").max().sort_values(\"total_deaths_per_million\", ascending=False)\n",
    "df4.head(20)"
   ]
  },
  {
   "cell_type": "code",
   "execution_count": 113,
   "metadata": {
    "scrolled": true
   },
   "outputs": [
    {
     "data": {
      "text/plain": [
       "<BarContainer object of 20 artists>"
      ]
     },
     "execution_count": 113,
     "metadata": {},
     "output_type": "execute_result"
    },
    {
     "data": {
      "image/png": "[encoded data removed]",
      "text/plain": [
       "<Figure size 720x720 with 1 Axes>"
      ]
     },
     "metadata": {
      "needs_background": "light"
     },
     "output_type": "display_data"
    }
   ],
   "source": [
    "# QUESITON 5 \n",
    "\n",
    "labels = ['CZE', 'BEL', 'SVN', 'GBR', 'HUN', 'ITA', 'BIH', 'PRT', 'BGR', 'USA', 'MKD', 'SVK', 'ESP', 'MEX', 'PER', 'PAN', 'FRA', 'HRV', 'OWID_NAM', 'BRA']\n",
    "values = [2168.834, 1936.3020000000001, 1892.318, 1852.414, 1754.8020000000001, 1689.4129999999998, 1659.953, 1636.215, 1624.104, 1615.963, 1593.0839999999998, 1562.007, 1545.4679999999998, 1510.1670000000001, 1481.2939999999999, 1389.182, 1387.745, 1382.8570000000002, 1315.767, 1308.947]\n",
    "\n",
    "plt.figure(figsize=(10,10))\n",
    "plt.bar(labels, values)"
   ]
  },
  {
   "cell_type": "code",
   "execution_count": 110,
   "metadata": {
    "scrolled": true
   },
   "outputs": [
    {
     "data": {
      "text/plain": [
       "<BarContainer object of 20 artists>"
      ]
     },
     "execution_count": 110,
     "metadata": {},
     "output_type": "execute_result"
    },
    {
     "data": {
      "image/png": "[encoded data removed]",
      "text/plain": [
       "<Figure size 720x720 with 1 Axes>"
      ]
     },
     "metadata": {
      "needs_background": "light"
     },
     "output_type": "display_data"
    }
   ],
   "source": [
    "#QUESTION 6\n",
    "labels = ['CZE', 'BEL', 'SVN', 'GBR', 'HUN', 'ITA', 'BIH', 'PRT', 'BGR', 'USA', 'MKD', 'SVK', 'ESP', 'MEX', 'PER', 'PAN', 'FRA', 'HRV', 'OWID_NAM', 'BRA']\n",
    "values = [137.17600000000002, 375.564, 102.619, 272.89799999999997, 108.04299999999999, 205.859, 68.49600000000001, 112.37100000000001, 65.18, 35.608000000000004, 82.6, 113.12799999999999, 93.105, 66.444, 25.129, 55.133, 122.57799999999999, 73.726, 0, 25.04]\n",
    "        \n",
    "\n",
    "plt.figure(figsize=(10,10))\n",
    "plt.bar(labels, values)"
   ]
  },
  {
   "cell_type": "code",
   "execution_count": 23,
   "metadata": {},
   "outputs": [],
   "source": [
    "# 7. Discuss the bar charts. Which conclusion you can draw, if you look at all of them together? (**2 marks**)\n",
    "# "
   ]
  },
  {
   "cell_type": "markdown",
   "metadata": {},
   "source": [
    "---\n",
    "## **Instruction 4**\n",
    "Let's now look at the other end of the COVID spread - at the countries with large populations (more than 1 million) and with the minimal number of cases and deaths. We can use the same dataset ***data_large_countries*** we have prepared in the previous task.\n",
    "\n",
    "**Your tasks here are:**\n",
    "1. Using the new dictionary ***data_large_countries***, plot bar charts of mortality per million, cases per million and population density for the 20 countries with **population** more than 1 million and minimal mortality. (**3 marks**)\n",
    "2. In the bar charts you have got you should see a very clear exception. Describe its properties. What makes it exceptional? (**2 marks**)\n",
    "\n",
    "[**Total mark: 5**]"
   ]
  },
  {
   "cell_type": "code",
   "execution_count": 110,
   "metadata": {},
   "outputs": [
    {
     "data": {
      "text/plain": [
       "Text(0.5, 1.0, 'Mortality per million')"
      ]
     },
     "execution_count": 110,
     "metadata": {},
     "output_type": "execute_result"
    },
    {
     "data": {
      "image/png": "[encoded data removed]",
      "text/plain": [
       "<Figure size 720x720 with 1 Axes>"
      ]
     },
     "metadata": {
      "needs_background": "light"
     },
     "output_type": "display_data"
    }
   ],
   "source": [
    "# 1. Using the new dictionary ***data_large_countries***, plot bar charts of mortality per million, \n",
    "# cases per million and population density for the 20 countries with **population** more than 1 \n",
    "# million and minimal mortality. (**3 marks**)\n",
    "\n",
    "\n",
    "\n",
    "df3 = data_large_countries.loc[(data_large_countries[\"population\"] > 1000000)]\n",
    "df4 = df3.groupby(\"iso_code\").max().sort_values(\"total_deaths_per_million\", ascending=True)\n",
    "#df4.head()\n",
    "\n",
    "countries = [\"BDI\", \"TZA\", \"VNM\", \"TWN\", \"MNG\", \"THA\", \"ERI\", \"PNG\", \"CHN\", \"SGP\", \"NZL\", \"BEN\", \"BFA\", \"UGA\", \"NER\", \"GIN\", \"MUS\", \"CIV\", \"COD\", \"SSD\"]\n",
    "values = [0.252,0.35200000000000004,0.36,0.42,1.22,1.246,1.974,2.347,3.362,5.127999999999999,5.392,6.681,6.888999999999999,7.3020000000000005,7.519,7.767,7.8629999999999995,7.999,8.006,9.291]\n",
    "\n",
    "plt.figure(figsize=(10,10))\n",
    "plt.bar(countries, values)\n",
    "plt.title(\"Mortality per million\")\n",
    "\n"
   ]
  },
  {
   "cell_type": "code",
   "execution_count": 96,
   "metadata": {},
   "outputs": [
    {
     "data": {
      "text/plain": [
       "Text(0.5, 1.0, 'Cases per million')"
      ]
     },
     "execution_count": 96,
     "metadata": {},
     "output_type": "execute_result"
    },
    {
     "data": {
      "image/png": "[encoded data removed]",
      "text/plain": [
       "<Figure size 720x720 with 1 Axes>"
      ]
     },
     "metadata": {
      "needs_background": "light"
     },
     "output_type": "display_data"
    }
   ],
   "source": [
    "countries = [\"BDI\", \"TZA\", \"VNM\", \"TWN\", \"MNG\", \"THA\", \"ERI\", \"PNG\", \"CHN\", \"SGP\", \"NZL\", \"BEN\", \"BFA\", \"UGA\", \"NER\", \"GIN\", \"MUS\", \"CIV\", \"COD\", \"SSD\"]\n",
    "values = [206.967, 8.521, 26.238000000000003, 41.357, 1245.4660000000001, 386.89099999999996, 856.637, 242.87400000000002, 70.434, 10273.757, 503.916, 536.245, 591.869, 887.191, 200.771, 1350.969, 583.44, 1427.425, 301.625, 847.796]\n",
    "\n",
    "plt.figure(figsize=(10,10))\n",
    "plt.bar(countries, values)\n",
    "plt.title(\"Cases per million\")\n"
   ]
  },
  {
   "cell_type": "code",
   "execution_count": 97,
   "metadata": {},
   "outputs": [
    {
     "data": {
      "text/plain": [
       "Text(0.5, 1.0, 'Population density')"
      ]
     },
     "execution_count": 97,
     "metadata": {},
     "output_type": "execute_result"
    },
    {
     "data": {
      "image/png": "[encoded data removed]",
      "text/plain": [
       "<Figure size 720x720 with 1 Axes>"
      ]
     },
     "metadata": {
      "needs_background": "light"
     },
     "output_type": "display_data"
    }
   ],
   "source": [
    "countries = [\"BDI\", \"TZA\", \"VNM\", \"TWN\", \"MNG\", \"THA\", \"ERI\", \"PNG\", \"CHN\", \"SGP\", \"NZL\", \"BEN\", \"BFA\", \"UGA\", \"NER\", \"GIN\", \"MUS\", \"CIV\", \"COD\", \"SSD\"]\n",
    "values = [423.06199999999995, 64.699, 308.127, 0, 1.98, 135.132, 44.303999999999995, 18.22, 147.674, 7915.731, 18.206, 99.11, 70.15100000000001, 213.75900000000001, 16.955, 51.755, 622.962, 76.399, 35.879, 0]\n",
    "\n",
    "plt.figure(figsize=(10,10))\n",
    "plt.bar(countries, values)\n",
    "plt.title(\"Population density\")\n",
    "\n",
    "\n",
    "\n",
    "#for row, index in df4.iterrows():\n",
    "#    print(index[3], end=\", \")"
   ]
  },
  {
   "cell_type": "code",
   "execution_count": 109,
   "metadata": {},
   "outputs": [],
   "source": [
    "# 2. In the bar charts you have got you should see a very clear exception. Describe its properties. \n",
    "# What makes it exceptional? (**2 marks**)\n",
    "\n",
    "\n",
    "# Singapore is the exception with population density and cases per million being extremely high compared to other nations.\n",
    "# Singapore has many cases per million compared to the others due to it having a high population density, which means more close contact between people.\n",
    "# The two attributes in this case are intertwined."
   ]
  },
  {
   "cell_type": "markdown",
   "metadata": {},
   "source": [
    "---\n",
    "## **Instruction 5 (D/HD level)**\n",
    "\n",
    "We will return back to the differences between the countries in their ways of dealinig with epidemics in Instruction 6. Now, however, we shall look at the basics of epidemiological processes from the point of view\n",
    "of real data. Generally, epidemics evolve exponentially until they are either stopped by some measures (lockdowns, vaccinations) or saturate (population dies out and/or gets naturally immune).\n",
    "\n",
    "**Your tasks**:\n",
    "\n",
    "1. Define a function called **convert_date** that takes date string (in the format as it is given in the dataset csv file) as the input and returns the number of days from that date until now. The number should be negative. For example, today is 14/3/21. The input date is 3/3/21. The function should compute the difference between the input date and today's date and return -13. If the function argument is in incorrect form, the function should return 0. Don't forget to test it. (**4 marks**)\n",
    "2. Pick three countries, which may be interesting or relevant for you. For me they are the UK, Ukraine and Australia (iso codes GBR, UKR, AUS). For demonstration purpose you want to include Australia or another country, which was able to deal with the COVID epidemics more or less successfully, and a country with large number of cases. Make a new list **country_list**, which contains iso codes of the countries. (**1 mark**)\n",
    "3. Plot how **total_cases** for the countries you have picked, grow in time. All three curves have to be on the same plot with the horizontal axis of \"Number of days before today\". Don't forget the legend. (**4 marks**)\n",
    "4. If you have chosen the countries appropriately, you will see that the plot you have produced is not very informative. Why is it so? What can you do to make it more informative and to reveal the true dynamics? Note there are **two** reasons, you need to provide both. (**1 mark**)\n",
    "5. Implement the idea from Task 4 and make a plot, similar to task 3. (**1 mark**)\n",
    "6. Explain what you see in the new plot. Do you see specific regions of interest in the epidemic curves? Discuss them. (**4 marks**)\n",
    "\n",
    "[**Total mark: 15**]\n",
    "\n",
    "\n",
    "NB: There are many more interesting dependencies you can produce in this part, and you are welcome to do so. Also, if you implement everything correctly, you don't need to limit yourself to three countries only."
   ]
  },
  {
   "cell_type": "code",
   "execution_count": 25,
   "metadata": {},
   "outputs": [
    {
     "name": "stdout",
     "output_type": "stream",
     "text": [
      "Enter the year. 2020\n",
      "Enter the month. 1\n",
      "Enter the day. 3\n",
      "2020-01-03\n",
      "2021-04-14\n",
      "-467\n"
     ]
    }
   ],
   "source": [
    "def convert_date(y, m, d):\n",
    "    y = int(input(\"Enter the year. \"))\n",
    "    m = int(input(\"Enter the month. \"))\n",
    "    d = int(input(\"Enter the day. \"))\n",
    "    \n",
    "    day = datetime.date(y, m, d)\n",
    "    print(day)\n",
    "    \n",
    "    today = datetime.date.today()\n",
    "    print(today)\n",
    "    \n",
    "    d = day - today\n",
    "    print(d.days)\n",
    "    \n",
    "    \n",
    "convert_date(2021, 1, 1)"
   ]
  },
  {
   "cell_type": "code",
   "execution_count": 152,
   "metadata": {
    "scrolled": true
   },
   "outputs": [],
   "source": [
    "country_list = pd.DataFrame({\n",
    "    \"GBR\": df[\"iso_code\"]==\"GBR\",\n",
    "    \"AUS\": df[\"iso_code\"]==\"AUS\",\n",
    "    \"UKR\": df[\"iso_code\"]==\"UKR\"\n",
    "})\n"
   ]
  },
  {
   "cell_type": "code",
   "execution_count": 71,
   "metadata": {},
   "outputs": [
    {
     "data": {
      "text/plain": [
       "Text(0, 0.5, 'Total Cases')"
      ]
     },
     "execution_count": 71,
     "metadata": {},
     "output_type": "execute_result"
    },
    {
     "data": {
      "image/png": "[encoded data removed]",
      "text/plain": [
       "<Figure size 432x288 with 1 Axes>"
      ]
     },
     "metadata": {
      "needs_background": "light"
     },
     "output_type": "display_data"
    }
   ],
   "source": [
    "GBR = df.loc[(df[\"iso_code\"] == \"GBR\")]\n",
    "plt.scatter(x=GBR[\"date\"], y=GBR[\"total_cases\"])\n",
    "plt.xlabel(\"Date\")\n",
    "plt.ylabel(\"Total Cases\")\n",
    "\n",
    "\n",
    "AUS = df.loc[(df[\"iso_code\"] == \"AUS\")]\n",
    "plt.scatter(x=AUS[\"date\"], y=AUS[\"total_cases\"])\n",
    "plt.xlabel(\"Date\")\n",
    "plt.ylabel(\"Total Cases\")\n",
    "\n",
    "\n",
    "UKR = df.loc[(df[\"iso_code\"] == \"UKR\")]\n",
    "plt.scatter(x=UKR[\"date\"], y=UKR[\"total_cases\"])\n",
    "plt.xlabel(\"Date\")\n",
    "plt.ylabel(\"Total Cases\")"
   ]
  },
  {
   "cell_type": "code",
   "execution_count": 98,
   "metadata": {},
   "outputs": [],
   "source": [
    "#There are various reasons why this graph is inaccurate. GBR's graph illustrates its total cases very well over time, but for Australia especially, the graph is too straight: it does not show when the number of cases increases accurately.\n",
    "#This is due to Australia not having as much total cases as GBR and UKR."
   ]
  },
  {
   "cell_type": "code",
   "execution_count": null,
   "metadata": {},
   "outputs": [],
   "source": [
    "# 5. Implement the idea from Task 4 and make a plot, similar to task 3. (**4 marks**)\n",
    "#\n",
    "# INSERT YOUR CODE HERE\n"
   ]
  },
  {
   "cell_type": "code",
   "execution_count": null,
   "metadata": {},
   "outputs": [],
   "source": [
    "# 6. Explain what you see in the new plot. Do you see specific regions of interest in the \n",
    "# epidemic curves? Discuss them. (**4 marks**)\n",
    "#\n",
    "# INSERT YOUR COMMENT HERE\n",
    "#"
   ]
  },
  {
   "cell_type": "markdown",
   "metadata": {},
   "source": [
    "---\n",
    "## **Instruction 6** (D/HD level)\n",
    "In this part of the assignment, we go back to the current state of affairs with COVID and look deeper into the dependencies between the parameters of the COVID epidemic and population parameters. We get back to the dataset we have created, namely **data_filtered_by_date**. This dataset also contains population parameters, for example, population and population density, median age, GDP per capita, human development index, and so on.\n",
    "\n",
    "NOTE: If you are curious, you may want to limit the number of countries you plot by some condition (similar to what we did above by limiting countries to ones with population above 1 million. The mark will not be affected if you don't.\n",
    "\n",
    "1. First of all, let's confirm what we saw before in Instructions 3 and 4, namely, counterintuitvely weak or no dependence of the number of cases and mortality on average population density. You need to plot two scatter plots of total mortality and total case numbers per million on population density. Take logarithm base 10 of the population density. (**2 marks**)\n",
    "2. Annotate the scatter plots with the iso codes of countries. (**1 mark**)\n",
    "3. Discuss the results you can see in the scatter plots. (**2 marks**) \n",
    "4. Make scatter plots of the mortality and case numbers on GDP per capita. (**2 marks**)\n",
    "5. Annotate the scatter plots with the iso codes of countries. (**1 mark**)\n",
    "6. Discuss what you see in these scatter plots. Strange, isn't it? What do you think are the reasons? There can be many. (**2 marks**)\n",
    "7. Make and annotate scatter plot of median age vs mortality and meadian age vs log10 of gdp per capita. (**1 mark**)\n",
    "8. Use numpy **polyfit** or **polynomial** function to fit a straight line in the last scatter plot (median age vs gdp per capita. Overplot the line. Note - IT CAN BE HARD! (**2 marks**)\n",
    "9. Discuss the last scatter plots. (**2 marks**)\n",
    "\n",
    "[**Total mark: 15**]"
   ]
  },
  {
   "cell_type": "code",
   "execution_count": 99,
   "metadata": {},
   "outputs": [
    {
     "data": {
      "text/plain": [
       "<matplotlib.collections.PathCollection at 0x1efbb818048>"
      ]
     },
     "execution_count": 99,
     "metadata": {},
     "output_type": "execute_result"
    },
    {
     "data": {
      "image/png": "[encoded data removed]",
      "text/plain": [
       "<Figure size 432x288 with 1 Axes>"
      ]
     },
     "metadata": {
      "needs_background": "light"
     },
     "output_type": "display_data"
    }
   ],
   "source": [
    "# 1. First of all, let's confirm what we saw before in Instructions 3 and 4, namely, \n",
    "# counterintuitvely weak or no dependence of the number of cases and mortality on average \n",
    "# population density. You need to plot two scatter plots of total mortality and total \n",
    "# case numbers per million on population density. Take logarithm base 10 of the population \n",
    "# density. (**2 marks**)\n",
    "df_deaths = df.groupby(\"location\").max().sort_values(\"total_deaths_per_million\", ascending=True)\n",
    "countries = df_deaths[\"iso_code\"]\n",
    "\n",
    "x = df_deaths[\"population_density\"]\n",
    "y = df_deaths[\"total_deaths_per_million\"]\n",
    "plt.xscale(\"log\")\n",
    "plt.scatter(x, y)\n",
    "\n",
    "\n",
    "x1 = df_deaths[\"population_density\"]\n",
    "y1 = df_deaths[\"total_cases_per_million\"]\n",
    "plt.xscale(\"log\")\n",
    "plt.scatter(x1, y1)"
   ]
  },
  {
   "cell_type": "code",
   "execution_count": 23,
   "metadata": {},
   "outputs": [
    {
     "data": {
      "text/plain": [
       "<matplotlib.collections.PathCollection at 0x1efb04c7208>"
      ]
     },
     "execution_count": 23,
     "metadata": {},
     "output_type": "execute_result"
    },
    {
     "data": {
      "image/png": "[encoded data removed]",
      "text/plain": [
       "<Figure size 432x288 with 1 Axes>"
      ]
     },
     "metadata": {
      "needs_background": "light"
     },
     "output_type": "display_data"
    }
   ],
   "source": [
    "# 2. Annotate the scatter plots with the iso codes of countries. (**1 mark**)\n",
    "\n",
    "colours = range(len(countries))\n",
    "\n",
    "x = df_deaths[\"population_density\"]\n",
    "y = df_deaths[\"total_deaths_per_million\"]\n",
    "plt.xscale(\"log\")\n",
    "plt.scatter(x, y, c=colours)"
   ]
  },
  {
   "cell_type": "code",
   "execution_count": null,
   "metadata": {},
   "outputs": [],
   "source": [
    "# 3. Discuss what you see in the scatter plots. (**2 mark**)\n",
    "#\n",
    "# "
   ]
  },
  {
   "cell_type": "code",
   "execution_count": 53,
   "metadata": {},
   "outputs": [
    {
     "data": {
      "text/plain": [
       "<matplotlib.collections.PathCollection at 0x1efb29d5288>"
      ]
     },
     "execution_count": 53,
     "metadata": {},
     "output_type": "execute_result"
    },
    {
     "data": {
      "image/png": "[encoded data removed]",
      "text/plain": [
       "<Figure size 432x288 with 1 Axes>"
      ]
     },
     "metadata": {
      "needs_background": "light"
     },
     "output_type": "display_data"
    }
   ],
   "source": [
    "# 4. Make scatter plots of the mortality and case numbers on GDP per capita. (**2 marks**)\n",
    "x = df_deaths[\"gdp_per_capita\"]\n",
    "y = df_deaths[\"total_deaths_per_million\"]\n",
    "plt.scatter(x, y)\n",
    "\n",
    "\n",
    "\n",
    "x = df_deaths[\"gdp_per_capita\"]\n",
    "y = df_deaths[\"total_cases_per_million\"]\n",
    "plt.scatter(x, y)"
   ]
  },
  {
   "cell_type": "code",
   "execution_count": 61,
   "metadata": {},
   "outputs": [
    {
     "data": {
      "text/plain": [
       "<matplotlib.collections.PathCollection at 0x1efb3fa55c8>"
      ]
     },
     "execution_count": 61,
     "metadata": {},
     "output_type": "execute_result"
    },
    {
     "data": {
      "image/png": "[encoded data removed]",
      "text/plain": [
       "<Figure size 432x288 with 1 Axes>"
      ]
     },
     "metadata": {
      "needs_background": "light"
     },
     "output_type": "display_data"
    }
   ],
   "source": [
    "# 5. Annotate the scatter plots with the iso codes of countries. (**1 mark**)\n",
    "\n",
    "x = df_deaths[\"gdp_per_capita\"]\n",
    "y = df_deaths[\"total_deaths_per_million\"]\n",
    "plt.scatter(x, y, c=colours)\n",
    "\n",
    "x1 = df_deaths[\"gdp_per_capita\"]\n",
    "y1 = df_deaths[\"total_cases_per_million\"]\n",
    "plt.scatter(x1, y1, c=colours)"
   ]
  },
  {
   "cell_type": "code",
   "execution_count": null,
   "metadata": {},
   "outputs": [],
   "source": [
    "# 6. Discuss what you see in these scatter plots. Strange, isn't it? What do you think are \n",
    "# the reasons? There can be many. (**2 marks**)\n",
    "#\n",
    "# The scatter plots do not show any correlation whatsoever.\n",
    "# \n"
   ]
  },
  {
   "cell_type": "code",
   "execution_count": 59,
   "metadata": {},
   "outputs": [
    {
     "data": {
      "text/plain": [
       "<matplotlib.collections.PathCollection at 0x1efb2e51cc8>"
      ]
     },
     "execution_count": 59,
     "metadata": {},
     "output_type": "execute_result"
    },
    {
     "data": {
      "image/png": "[encoded data removed]",
      "text/plain": [
       "<Figure size 432x288 with 1 Axes>"
      ]
     },
     "metadata": {
      "needs_background": "light"
     },
     "output_type": "display_data"
    }
   ],
   "source": [
    "#7. Make and annotate scatter plot of median age vs mortality and meadian age vs log10 of gdp per capita. (1 mark)\n",
    "\n",
    "x = df_deaths[\"median_age\"]\n",
    "y = df_deaths[\"total_deaths_per_million\"]\n",
    "plt.scatter(x, y, c=colours)\n",
    "\n",
    "\n",
    "\n",
    "x = df_deaths[\"median_age\"]\n",
    "y = df_deaths[\"gdp_per_capita\"]\n",
    "plt.yscale(\"log\")\n",
    "plt.scatter(x, y, c=colours)\n",
    "    "
   ]
  },
  {
   "cell_type": "code",
   "execution_count": 62,
   "metadata": {},
   "outputs": [],
   "source": [
    "# 8. Use numpy polyfit function to fit a straight line in the last scatter plot (median age vs gdp per \n",
    "# capita. Overplot the line. (**2 marks**)\n",
    "# INSERT YOUR CODE HERE\n"
   ]
  },
  {
   "cell_type": "code",
   "execution_count": null,
   "metadata": {},
   "outputs": [],
   "source": [
    "# 9. Discuss the last scatter plots. (**2 marks**)\n",
    "#\n",
    "# INSERT YOUR COMMENT HERE\n",
    "#\n",
    "# "
   ]
  }
 ],
 "metadata": {
  "kernelspec": {
   "display_name": "Python 3 (ipykernel)",
   "language": "python",
   "name": "python3"
  },
  "language_info": {
   "codemirror_mode": {
    "name": "ipython",
    "version": 3
   },
   "file_extension": ".py",
   "mimetype": "text/x-python",
   "name": "python",
   "nbconvert_exporter": "python",
   "pygments_lexer": "ipython3",
   "version": "3.11.4"
  }
 },
 "nbformat": 4,
 "nbformat_minor": 1
}
