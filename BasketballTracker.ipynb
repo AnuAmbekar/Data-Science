{
 "cells": [
  {
   "cell_type": "code",
   "execution_count": 192,
   "id": "116b15d4",
   "metadata": {},
   "outputs": [],
   "source": [
    "import cv2\n",
    "from cvzone.ColorModule import ColorFinder\n",
    "import cvzone\n",
    "import os\n",
    "import numpy as np\n",
    "import math"
   ]
  },
  {
   "cell_type": "code",
   "execution_count": 265,
   "id": "b78bce38",
   "metadata": {},
   "outputs": [
    {
     "name": "stderr",
     "output_type": "stream",
     "text": [
      "C:\\Users\\anurag\\Anaconda3\\Lib\\site-packages\\IPython\\core\\interactiveshell.py:3505: RankWarning: Polyfit may be poorly conditioned\n",
      "  exec(code_obj, self.user_global_ns, self.user_ns)\n",
      "C:\\Users\\anurag\\Anaconda3\\Lib\\site-packages\\IPython\\core\\interactiveshell.py:3505: RankWarning: Polyfit may be poorly conditioned\n",
      "  exec(code_obj, self.user_global_ns, self.user_ns)\n"
     ]
    }
   ],
   "source": [
    "video = cv2.VideoCapture('Files/Videos/vid (7).mp4')\n",
    "myColorFinder = ColorFinder()\n",
    "center_list = []\n",
    "listX = []\n",
    "listY = []\n",
    "\n",
    "while True:\n",
    "    \n",
    "    ret, frame = video.read()\n",
    "    \n",
    "    if ret == False:\n",
    "        break\n",
    "    \n",
    "    frame = frame[0:900, :]\n",
    "    hsv = {'hmin': 8, 'smin': 96, 'vmin': 115, 'hmax': 14, 'smax': 255, 'vmax': 255}\n",
    "    img, mask = myColorFinder.update(frame, hsv)\n",
    "    imgContours, contours = cvzone.findContours(frame, mask, minArea=200)\n",
    "    \n",
    "    if contours:\n",
    "        center = contours[0]['center']\n",
    "        center_list.append(center)\n",
    "        listX.append(center[0])\n",
    "        listY.append(center[1])\n",
    "    \n",
    "    for c in center_list:\n",
    "        cv2.circle(imgContours, c, 2, (255, 0, 255), 2)\n",
    "    \n",
    "    for i, c in enumerate(center_list[:-1]):\n",
    "        cv2.line(imgContours, center_list[i], center_list[i+1], (255, 0, 255), 1)\n",
    "    \n",
    "    \n",
    "    if listX:\n",
    "        \n",
    "        A, B, C = np.polyfit(listX, listY, 2)\n",
    "        \n",
    "        y = A*x**2 + B*x + C\n",
    "        \n",
    "        for i in range(1300):\n",
    "            \n",
    "            a = A\n",
    "            b = B\n",
    "            c = C - 590\n",
    "            \n",
    "            determinant = b ** 2 - 4 * a * c\n",
    "\n",
    "            \n",
    "            if determinant >= 0:\n",
    "                x1 = int((-b - math.sqrt(determinant)) / (2 * a))\n",
    "\n",
    "                x2 = int((-b + math.sqrt(determinant)) / (2 * a))\n",
    "\n",
    "            \n",
    "                if 330 <= x1 <= 430 or 330 <= x2 <= 430:\n",
    "                    prediction = True\n",
    "                else:\n",
    "                    prediction = False\n",
    "                    \n",
    "                \n",
    "            if prediction:\n",
    "                cvzone.putTextRect(imgContours, 'Basket', (35, 80), scale=5, colorT=(255, 255, 255), colorR=(0, 255, 0))\n",
    "            else:\n",
    "                cvzone.putTextRect(imgContours, 'No Basket', (35, 80), scale=5, colorT=(255, 255, 255), colorR=(0, 0, 255))\n",
    "            \n",
    "            \n",
    "    \n",
    "    if cv2.waitKey(50) & 0xFF == ord('q'):\n",
    "        break\n",
    "\n",
    "        \n",
    "    cv2.imshow('frame', imgContours)\n",
    "    \n",
    "video.release()\n",
    "cv2.destroyAllWindows()"
   ]
  },
  {
   "cell_type": "code",
   "execution_count": 229,
   "id": "653cf4ab",
   "metadata": {},
   "outputs": [
    {
     "data": {
      "text/plain": [
       "[359,\n",
       " 314,\n",
       " 280,\n",
       " 251,\n",
       " 233,\n",
       " 222,\n",
       " 220,\n",
       " 225,\n",
       " 238,\n",
       " 257,\n",
       " 283,\n",
       " 318,\n",
       " 361,\n",
       " 410,\n",
       " 469,\n",
       " 536,\n",
       " 615,\n",
       " 678,\n",
       " 710,\n",
       " 746,\n",
       " 792,\n",
       " 846,\n",
       " 890,\n",
       " 889,\n",
       " 883,\n",
       " 880,\n",
       " 881,\n",
       " 886,\n",
       " 506,\n",
       " 511,\n",
       " 509,\n",
       " 510,\n",
       " 509,\n",
       " 509,\n",
       " 509,\n",
       " 510,\n",
       " 509,\n",
       " 509,\n",
       " 509,\n",
       " 509,\n",
       " 512,\n",
       " 509,\n",
       " 509]"
      ]
     },
     "execution_count": 229,
     "metadata": {},
     "output_type": "execute_result"
    }
   ],
   "source": [
    "listY"
   ]
  },
  {
   "cell_type": "code",
   "execution_count": 250,
   "id": "388bda17",
   "metadata": {},
   "outputs": [],
   "source": [
    "cvzone.putTextRect??"
   ]
  }
 ],
 "metadata": {
  "kernelspec": {
   "display_name": "Python 3 (ipykernel)",
   "language": "python",
   "name": "python3"
  },
  "language_info": {
   "codemirror_mode": {
    "name": "ipython",
    "version": 3
   },
   "file_extension": ".py",
   "mimetype": "text/x-python",
   "name": "python",
   "nbconvert_exporter": "python",
   "pygments_lexer": "ipython3",
   "version": "3.11.4"
  }
 },
 "nbformat": 4,
 "nbformat_minor": 5
}
