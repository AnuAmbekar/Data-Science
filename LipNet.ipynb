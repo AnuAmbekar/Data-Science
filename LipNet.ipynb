{
 "cells": [
  {
   "cell_type": "markdown",
   "id": "a580500d",
   "metadata": {},
   "source": [
    "## LipNet \n",
    "\n",
    "This code is inspired by a similar demonstration by Nicholas Renotte. This is a demonstration of lip reading.\n",
    "\n",
    "To acquire the data:\n",
    "\n",
    "https://drive.google.com/uc?id=1YlvpDLix3S-U8fd-gqRwPcWXAXm8JwjL"
   ]
  },
  {
   "cell_type": "code",
   "execution_count": null,
   "id": "64ba56ea",
   "metadata": {},
   "outputs": [],
   "source": [
    "import tensorflow as tf\n",
    "import os\n",
    "import cv2\n",
    "import numpy as np\n",
    "from tensorflow.keras.models import Sequential \n",
    "from tensorflow.keras.layers import Conv3D, GRU, Dense, Dropout, Bidirectional, MaxPool3D, Activation, Reshape, SpatialDropout3D, BatchNormalization, TimeDistributed, Flatten\n",
    "from tensorflow.keras.optimizers import Adam\n",
    "from tensorflow.keras.callbacks import ModelCheckpoint, LearningRateScheduler"
   ]
  },
  {
   "cell_type": "code",
   "execution_count": 2,
   "id": "676888f6",
   "metadata": {},
   "outputs": [],
   "source": [
    "data_dir = os.path.join(os.getcwd(), os.listdir(os.getcwd())[1])"
   ]
  },
  {
   "cell_type": "code",
   "execution_count": 3,
   "id": "2231eae1",
   "metadata": {},
   "outputs": [],
   "source": [
    "mpg = []; align = []\n",
    "for folder, _, filename in os.walk(data_dir):\n",
    "    for file in filename:\n",
    "        if file.endswith('mpg'):\n",
    "            mpg.append(os.path.join(folder, file))\n",
    "        elif file.endswith('align'):\n",
    "            align.append(os.path.join(folder, file))"
   ]
  },
  {
   "cell_type": "code",
   "execution_count": 4,
   "id": "5754c581",
   "metadata": {},
   "outputs": [],
   "source": [
    "def load_mpg(mpg_file):\n",
    "    video = cv2.VideoCapture(mpg_file)\n",
    "    frames = []\n",
    "    \n",
    "    for f in range(int(video.get(cv2.CAP_PROP_FRAME_COUNT))):\n",
    "        ret, frame = video.read()\n",
    "        frame = tf.image.rgb_to_grayscale(frame)\n",
    "        frame = tf.cast(frame, tf.float32)\n",
    "        frame = frame[190:236,80:220,:]\n",
    "        frames.append(frame)\n",
    "        \n",
    "    mean = tf.math.reduce_mean(frames)\n",
    "    std = tf.math.reduce_std(frames)\n",
    "    \n",
    "    normalized = tf.cast((frames - mean), tf.float32) / std\n",
    "    \n",
    "    return normalized\n",
    "        "
   ]
  },
  {
   "cell_type": "code",
   "execution_count": 5,
   "id": "15315110",
   "metadata": {},
   "outputs": [],
   "source": [
    "vocab = [v for v in 'abcdefghijklmnopqrstuvwxyz0123456789']\n",
    "char_to_num = tf.keras.layers.StringLookup(vocabulary=vocab, oov_token=' ')\n",
    "num_to_char = tf.keras.layers.StringLookup(vocabulary=char_to_num.get_vocabulary(), oov_token=' ', invert=True)"
   ]
  },
  {
   "cell_type": "code",
   "execution_count": 6,
   "id": "2163da31",
   "metadata": {},
   "outputs": [],
   "source": [
    "def load_align(align_file):\n",
    "    files = []\n",
    "    with open(align_file) as file:\n",
    "        for file in file:\n",
    "            \n",
    "            if file.strip().split(' ')[2] != 'sil':\n",
    "                files.append(file.strip().split(' ')[2])\n",
    "    \n",
    "    for idx, file in enumerate(files):\n",
    "        if idx % 2 == 0:\n",
    "            files.insert(idx, ' ')\n",
    "                    \n",
    "    unicodes = char_to_num(tf.reshape(tf.strings.unicode_split(files, input_encoding='UTF-8'), (-1)))[1:]\n",
    "    \n",
    "    return unicodes"
   ]
  },
  {
   "cell_type": "code",
   "execution_count": 7,
   "id": "3201e95b",
   "metadata": {},
   "outputs": [
    {
     "data": {
      "text/plain": [
       "<tf.Tensor: shape=(21,), dtype=int64, numpy=\n",
       "array([ 2,  9, 14,  0,  2, 12, 21,  5,  0,  1, 20,  0,  6,  0, 20, 23, 15,\n",
       "        0, 14, 15, 23], dtype=int64)>"
      ]
     },
     "execution_count": 7,
     "metadata": {},
     "output_type": "execute_result"
    }
   ],
   "source": [
    "load_align(align[0])"
   ]
  },
  {
   "cell_type": "code",
   "execution_count": 8,
   "id": "f1322164",
   "metadata": {},
   "outputs": [],
   "source": [
    "def load_data(mpg_file):\n",
    "    frame = tf.convert_to_tensor(mpg_file).numpy().decode('utf-8')\n",
    "    frames = load_mpg(frame)\n",
    "    \n",
    "    start = tf.strings.reduce_join((tf.strings.split(frame, sep='\\\\')[:-2]), separator='\\\\').numpy().decode('utf-8')\n",
    "    end = tf.strings.regex_replace(tf.strings.reduce_join(tf.strings.split(frame, sep='\\\\')[-2:], separator='\\\\'), 'mpg', 'align').numpy().decode('utf-8')\n",
    "    centre = tf.strings.reduce_join(tf.constant('alignments'), separator='\\\\').numpy().decode('utf-8')\n",
    "    align = os.path.join(start, centre, end)\n",
    "    align = load_align(align)\n",
    "    \n",
    "    return frames, align"
   ]
  },
  {
   "cell_type": "code",
   "execution_count": 9,
   "id": "2509cdce",
   "metadata": {},
   "outputs": [
    {
     "data": {
      "text/plain": [
       "(<tf.Tensor: shape=(75, 46, 140, 1), dtype=float32, numpy=\n",
       " array([[[[ 1.4685191 ],\n",
       "          [ 1.4685191 ],\n",
       "          [ 1.4310399 ],\n",
       "          ...,\n",
       "          [ 0.38162336],\n",
       "          [ 0.38162336],\n",
       "          [ 0.38162336]],\n",
       " \n",
       "         [[ 1.4685191 ],\n",
       "          [ 1.4685191 ],\n",
       "          [ 1.4310399 ],\n",
       "          ...,\n",
       "          [ 0.38162336],\n",
       "          [ 0.38162336],\n",
       "          [ 0.38162336]],\n",
       " \n",
       "         [[ 1.4310399 ],\n",
       "          [ 1.4310399 ],\n",
       "          [ 1.4685191 ],\n",
       "          ...,\n",
       "          [ 0.30666503],\n",
       "          [ 0.30666503],\n",
       "          [ 0.30666503]],\n",
       " \n",
       "         ...,\n",
       " \n",
       "         [[ 1.0187691 ],\n",
       "          [ 1.0187691 ],\n",
       "          [ 0.9812899 ],\n",
       "          ...,\n",
       "          [ 0.08179008],\n",
       "          [ 0.08179008],\n",
       "          [ 0.04431092]],\n",
       " \n",
       "         [[ 1.0187691 ],\n",
       "          [ 1.0187691 ],\n",
       "          [ 0.9812899 ],\n",
       "          ...,\n",
       "          [ 0.08179008],\n",
       "          [ 0.04431092],\n",
       "          [ 0.04431092]],\n",
       " \n",
       "         [[ 1.0187691 ],\n",
       "          [ 1.0187691 ],\n",
       "          [ 0.9812899 ],\n",
       "          ...,\n",
       "          [ 0.04431092],\n",
       "          [ 0.04431092],\n",
       "          [ 0.00683176]]],\n",
       " \n",
       " \n",
       "        [[[ 1.3935608 ],\n",
       "          [ 1.3935608 ],\n",
       "          [ 1.3935608 ],\n",
       "          ...,\n",
       "          [ 0.30666503],\n",
       "          [ 0.30666503],\n",
       "          [ 0.30666503]],\n",
       " \n",
       "         [[ 1.3935608 ],\n",
       "          [ 1.3935608 ],\n",
       "          [ 1.3935608 ],\n",
       "          ...,\n",
       "          [ 0.30666503],\n",
       "          [ 0.30666503],\n",
       "          [ 0.30666503]],\n",
       " \n",
       "         [[ 1.3935608 ],\n",
       "          [ 1.3935608 ],\n",
       "          [ 1.3935608 ],\n",
       "          ...,\n",
       "          [ 0.26918587],\n",
       "          [ 0.26918587],\n",
       "          [ 0.26918587]],\n",
       " \n",
       "         ...,\n",
       " \n",
       "         [[ 1.0187691 ],\n",
       "          [ 1.0187691 ],\n",
       "          [ 0.9812899 ],\n",
       "          ...,\n",
       "          [ 0.08179008],\n",
       "          [ 0.08179008],\n",
       "          [ 0.04431092]],\n",
       " \n",
       "         [[ 1.0187691 ],\n",
       "          [ 1.0187691 ],\n",
       "          [ 0.9812899 ],\n",
       "          ...,\n",
       "          [ 0.08179008],\n",
       "          [ 0.04431092],\n",
       "          [ 0.04431092]],\n",
       " \n",
       "         [[ 1.0187691 ],\n",
       "          [ 1.0187691 ],\n",
       "          [ 0.9812899 ],\n",
       "          ...,\n",
       "          [ 0.04431092],\n",
       "          [ 0.04431092],\n",
       "          [ 0.00683176]]],\n",
       " \n",
       " \n",
       "        [[[ 1.3186024 ],\n",
       "          [ 1.3186024 ],\n",
       "          [ 1.3186024 ],\n",
       "          ...,\n",
       "          [ 0.30666503],\n",
       "          [ 0.30666503],\n",
       "          [ 0.30666503]],\n",
       " \n",
       "         [[ 1.3186024 ],\n",
       "          [ 1.3186024 ],\n",
       "          [ 1.3186024 ],\n",
       "          ...,\n",
       "          [ 0.30666503],\n",
       "          [ 0.30666503],\n",
       "          [ 0.30666503]],\n",
       " \n",
       "         [[ 1.3935608 ],\n",
       "          [ 1.3935608 ],\n",
       "          [ 1.3560816 ],\n",
       "          ...,\n",
       "          [ 0.23170672],\n",
       "          [ 0.26918587],\n",
       "          [ 0.26918587]],\n",
       " \n",
       "         ...,\n",
       " \n",
       "         [[ 0.94381076],\n",
       "          [ 0.94381076],\n",
       "          [ 0.9063316 ],\n",
       "          ...,\n",
       "          [ 0.08179008],\n",
       "          [ 0.08179008],\n",
       "          [ 0.04431092]],\n",
       " \n",
       "         [[ 0.94381076],\n",
       "          [ 0.94381076],\n",
       "          [ 0.9063316 ],\n",
       "          ...,\n",
       "          [ 0.08179008],\n",
       "          [ 0.04431092],\n",
       "          [ 0.04431092]],\n",
       " \n",
       "         [[ 0.94381076],\n",
       "          [ 0.94381076],\n",
       "          [ 0.9063316 ],\n",
       "          ...,\n",
       "          [ 0.04431092],\n",
       "          [ 0.04431092],\n",
       "          [ 0.00683176]]],\n",
       " \n",
       " \n",
       "        ...,\n",
       " \n",
       " \n",
       "        [[[ 1.4685191 ],\n",
       "          [ 1.4685191 ],\n",
       "          [ 1.4685191 ],\n",
       "          ...,\n",
       "          [ 0.26918587],\n",
       "          [ 0.26918587],\n",
       "          [ 0.26918587]],\n",
       " \n",
       "         [[ 1.3935608 ],\n",
       "          [ 1.3935608 ],\n",
       "          [ 1.3935608 ],\n",
       "          ...,\n",
       "          [ 0.26918587],\n",
       "          [ 0.26918587],\n",
       "          [ 0.26918587]],\n",
       " \n",
       "         [[ 1.4310399 ],\n",
       "          [ 1.4310399 ],\n",
       "          [ 1.3935608 ],\n",
       "          ...,\n",
       "          [ 0.26918587],\n",
       "          [ 0.23170672],\n",
       "          [ 0.23170672]],\n",
       " \n",
       "         ...,\n",
       " \n",
       "         [[ 1.0562483 ],\n",
       "          [ 1.0187691 ],\n",
       "          [ 1.0187691 ],\n",
       "          ...,\n",
       "          [ 0.04431092],\n",
       "          [ 0.04431092],\n",
       "          [ 0.04431092]],\n",
       " \n",
       "         [[ 1.0187691 ],\n",
       "          [ 1.0187691 ],\n",
       "          [ 1.0187691 ],\n",
       "          ...,\n",
       "          [ 0.04431092],\n",
       "          [ 0.04431092],\n",
       "          [ 0.04431092]],\n",
       " \n",
       "         [[ 1.0187691 ],\n",
       "          [ 1.0187691 ],\n",
       "          [ 1.0187691 ],\n",
       "          ...,\n",
       "          [ 0.04431092],\n",
       "          [ 0.04431092],\n",
       "          [ 0.00683176]]],\n",
       " \n",
       " \n",
       "        [[[ 1.4685191 ],\n",
       "          [ 1.4685191 ],\n",
       "          [ 1.5059983 ],\n",
       "          ...,\n",
       "          [ 0.30666503],\n",
       "          [ 0.26918587],\n",
       "          [ 0.26918587]],\n",
       " \n",
       "         [[ 1.3935608 ],\n",
       "          [ 1.3935608 ],\n",
       "          [ 1.4310399 ],\n",
       "          ...,\n",
       "          [ 0.30666503],\n",
       "          [ 0.26918587],\n",
       "          [ 0.26918587]],\n",
       " \n",
       "         [[ 1.4310399 ],\n",
       "          [ 1.4310399 ],\n",
       "          [ 1.3935608 ],\n",
       "          ...,\n",
       "          [ 0.23170672],\n",
       "          [ 0.26918587],\n",
       "          [ 0.26918587]],\n",
       " \n",
       "         ...,\n",
       " \n",
       "         [[ 1.0187691 ],\n",
       "          [ 0.9812899 ],\n",
       "          [ 0.9812899 ],\n",
       "          ...,\n",
       "          [ 0.00683176],\n",
       "          [ 0.00683176],\n",
       "          [ 0.00683176]],\n",
       " \n",
       "         [[ 1.0187691 ],\n",
       "          [ 0.9812899 ],\n",
       "          [ 0.9812899 ],\n",
       "          ...,\n",
       "          [ 0.00683176],\n",
       "          [ 0.00683176],\n",
       "          [ 0.00683176]],\n",
       " \n",
       "         [[ 0.9812899 ],\n",
       "          [ 0.9812899 ],\n",
       "          [ 0.94381076],\n",
       "          ...,\n",
       "          [ 0.00683176],\n",
       "          [ 0.00683176],\n",
       "          [-0.0306474 ]]],\n",
       " \n",
       " \n",
       "        [[[ 1.4310399 ],\n",
       "          [ 1.4310399 ],\n",
       "          [ 1.4310399 ],\n",
       "          ...,\n",
       "          [ 0.26918587],\n",
       "          [ 0.26918587],\n",
       "          [ 0.26918587]],\n",
       " \n",
       "         [[ 1.4310399 ],\n",
       "          [ 1.4310399 ],\n",
       "          [ 1.4310399 ],\n",
       "          ...,\n",
       "          [ 0.26918587],\n",
       "          [ 0.26918587],\n",
       "          [ 0.26918587]],\n",
       " \n",
       "         [[ 1.3935608 ],\n",
       "          [ 1.3935608 ],\n",
       "          [ 1.3560816 ],\n",
       "          ...,\n",
       "          [ 0.26918587],\n",
       "          [ 0.26918587],\n",
       "          [ 0.26918587]],\n",
       " \n",
       "         ...,\n",
       " \n",
       "         [[ 1.0187691 ],\n",
       "          [ 0.9812899 ],\n",
       "          [ 0.9812899 ],\n",
       "          ...,\n",
       "          [ 0.00683176],\n",
       "          [ 0.00683176],\n",
       "          [ 0.00683176]],\n",
       " \n",
       "         [[ 0.94381076],\n",
       "          [ 0.9063316 ],\n",
       "          [ 0.94381076],\n",
       "          ...,\n",
       "          [ 0.00683176],\n",
       "          [ 0.00683176],\n",
       "          [ 0.00683176]],\n",
       " \n",
       "         [[ 0.94381076],\n",
       "          [ 0.9063316 ],\n",
       "          [ 0.94381076],\n",
       "          ...,\n",
       "          [ 0.00683176],\n",
       "          [ 0.00683176],\n",
       "          [-0.0306474 ]]]], dtype=float32)>,\n",
       " <tf.Tensor: shape=(21,), dtype=int64, numpy=\n",
       " array([ 2,  9, 14,  0,  2, 12, 21,  5,  0,  1, 20,  0,  6,  0, 20, 23, 15,\n",
       "         0, 14, 15, 23], dtype=int64)>)"
      ]
     },
     "execution_count": 9,
     "metadata": {},
     "output_type": "execute_result"
    }
   ],
   "source": [
    "load_data(mpg[0])"
   ]
  },
  {
   "cell_type": "code",
   "execution_count": 10,
   "id": "e48cc5b2",
   "metadata": {},
   "outputs": [],
   "source": [
    "def map_function(file):\n",
    "    return tf.py_function(load_data, [file], (tf.float32, tf.int64))"
   ]
  },
  {
   "cell_type": "code",
   "execution_count": 11,
   "id": "8f43a128",
   "metadata": {},
   "outputs": [],
   "source": [
    "data = tf.data.Dataset.list_files([m for m in mpg])\n",
    "\n",
    "data = data.shuffle(500, reshuffle_each_iteration=False)\n",
    "data = data.prefetch(tf.data.AUTOTUNE)\n",
    "data = data.map(map_function)\n",
    "data = data.padded_batch(2, padded_shapes=([75, None, None, None], [40]))\n",
    "data = data.prefetch(tf.data.AUTOTUNE)\n",
    "data = data.cache()\n",
    "\n",
    "train = data.take(450)\n",
    "test = data.skip(450)"
   ]
  },
  {
   "cell_type": "code",
   "execution_count": 12,
   "id": "13978173",
   "metadata": {},
   "outputs": [],
   "source": [
    "model = Sequential()\n",
    "\n",
    "model.add(Conv3D(128, input_shape=(75, 46, 140, 1), kernel_size=3, activation='relu'))\n",
    "model.add(Dropout(0.5))\n",
    "model.add(MaxPool3D((1, 2, 2)))\n",
    "\n",
    "model.add(Conv3D(128, input_shape=(75, 46, 140, 1), kernel_size=3, activation='relu'))\n",
    "model.add(Dropout(0.5))\n",
    "model.add(MaxPool3D((1, 2, 2)))\n",
    "\n",
    "model.add(Conv3D(128, input_shape=(75, 46, 140, 1), kernel_size=3, activation='relu'))\n",
    "model.add(Dropout(0.5))\n",
    "model.add(MaxPool3D((1, 2, 2)))\n",
    "\n",
    "model.add(TimeDistributed(Flatten()))\n",
    "\n",
    "model.add(Bidirectional(GRU(128, kernel_initializer='Orthogonal', return_sequences=True)))\n",
    "\n",
    "model.add(Bidirectional(GRU(128, kernel_initializer='Orthogonal', return_sequences=True)))\n",
    "\n",
    "model.add(Dense(num_to_char.vocabulary_size()+1, kernel_initializer='he_normal', activation='softmax'))"
   ]
  },
  {
   "cell_type": "code",
   "execution_count": 13,
   "id": "c1887fde",
   "metadata": {},
   "outputs": [],
   "source": [
    "def lr_scheduler(epochs, lr):\n",
    "    if epochs < 30:\n",
    "        return lr * tf.math.exp(-0.1)\n",
    "    else:\n",
    "        return lr"
   ]
  },
  {
   "cell_type": "code",
   "execution_count": 14,
   "id": "21638e28",
   "metadata": {},
   "outputs": [],
   "source": [
    "def CTCLoss(y_true, y_pred):\n",
    "    \n",
    "    batch_length = tf.cast(tf.shape(y_true)[0], dtype='int32')\n",
    "    input_length = tf.cast(tf.shape(y_pred)[1], dtype='int32')\n",
    "    label_length = tf.cast(tf.shape(y_true)[1], dtype='int32')\n",
    "    \n",
    "    input_length = input_length * tf.ones(shape=(batch_length, 1), dtype='int32')\n",
    "    label_length = label_length * tf.ones(shape=(batch_length, 1), dtype='int32')\n",
    "    \n",
    "    loss = tf.keras.backend.ctc_batch_cost(y_true, y_pred, input_length, label_length)\n",
    "    \n",
    "    return loss"
   ]
  },
  {
   "cell_type": "code",
   "execution_count": 15,
   "id": "a0b770d5",
   "metadata": {},
   "outputs": [
    {
     "name": "stdout",
     "output_type": "stream",
     "text": [
      "here\n"
     ]
    }
   ],
   "source": [
    "print('here')"
   ]
  },
  {
   "cell_type": "code",
   "execution_count": 71,
   "id": "d40ba1ff",
   "metadata": {},
   "outputs": [],
   "source": [
    "class ProduceExample(tf.keras.callbacks.Callback):\n",
    "    \n",
    "    def __init__(self, dataset):\n",
    "        dataset = dataset.as_numpy_iterator()\n",
    "        \n",
    "    def on_epoch_end(self, epochs):\n",
    "        data = self.dataset.next()\n",
    "        predictions = self.model.predict(data[0])\n",
    "        decoded = tf.keras.backend.ctc_decode(predictions, [75, 75], greedy=False)[0][0].numpy()\n",
    "        \n",
    "        for i in range(len(predictions)):\n",
    "            print('Original: {}'.format(tf.strings.reduce_join(num_to_char(data[1][i]).numpy().decode('utf-8'))))\n",
    "            print('Prediction: {}'.format(tf.strings.reduce_join(decoded[i]).numpy().decode('utf-8')))\n",
    "            print('~'*100)"
   ]
  },
  {
   "cell_type": "code",
   "execution_count": 75,
   "id": "d3d3f5aa",
   "metadata": {},
   "outputs": [
    {
     "name": "stdout",
     "output_type": "stream",
     "text": [
      " 69/450 [===>..........................] - ETA: 4:24:04 - loss: 91.4557"
     ]
    },
    {
     "ename": "KeyboardInterrupt",
     "evalue": "",
     "output_type": "error",
     "traceback": [
      "\u001b[1;31m---------------------------------------------------------------------------\u001b[0m",
      "\u001b[1;31mKeyboardInterrupt\u001b[0m                         Traceback (most recent call last)",
      "Cell \u001b[1;32mIn[75], line 7\u001b[0m\n\u001b[0;32m      4\u001b[0m lr_check \u001b[38;5;241m=\u001b[39m LearningRateScheduler(lr_scheduler)\n\u001b[0;32m      5\u001b[0m produce_example \u001b[38;5;241m=\u001b[39m ProduceExample(test)\n\u001b[1;32m----> 7\u001b[0m model\u001b[38;5;241m.\u001b[39mfit(train, validation_data\u001b[38;5;241m=\u001b[39mtest, callbacks\u001b[38;5;241m=\u001b[39m[checkpoint_check, lr_check, produce_example])\n",
      "File \u001b[1;32m~\\Anaconda3\\Lib\\site-packages\\keras\\src\\utils\\traceback_utils.py:65\u001b[0m, in \u001b[0;36mfilter_traceback.<locals>.error_handler\u001b[1;34m(*args, **kwargs)\u001b[0m\n\u001b[0;32m     63\u001b[0m filtered_tb \u001b[38;5;241m=\u001b[39m \u001b[38;5;28;01mNone\u001b[39;00m\n\u001b[0;32m     64\u001b[0m \u001b[38;5;28;01mtry\u001b[39;00m:\n\u001b[1;32m---> 65\u001b[0m     \u001b[38;5;28;01mreturn\u001b[39;00m fn(\u001b[38;5;241m*\u001b[39margs, \u001b[38;5;241m*\u001b[39m\u001b[38;5;241m*\u001b[39mkwargs)\n\u001b[0;32m     66\u001b[0m \u001b[38;5;28;01mexcept\u001b[39;00m \u001b[38;5;167;01mException\u001b[39;00m \u001b[38;5;28;01mas\u001b[39;00m e:\n\u001b[0;32m     67\u001b[0m     filtered_tb \u001b[38;5;241m=\u001b[39m _process_traceback_frames(e\u001b[38;5;241m.\u001b[39m__traceback__)\n",
      "File \u001b[1;32m~\\Anaconda3\\Lib\\site-packages\\keras\\src\\engine\\training.py:1742\u001b[0m, in \u001b[0;36mModel.fit\u001b[1;34m(self, x, y, batch_size, epochs, verbose, callbacks, validation_split, validation_data, shuffle, class_weight, sample_weight, initial_epoch, steps_per_epoch, validation_steps, validation_batch_size, validation_freq, max_queue_size, workers, use_multiprocessing)\u001b[0m\n\u001b[0;32m   1734\u001b[0m \u001b[38;5;28;01mwith\u001b[39;00m tf\u001b[38;5;241m.\u001b[39mprofiler\u001b[38;5;241m.\u001b[39mexperimental\u001b[38;5;241m.\u001b[39mTrace(\n\u001b[0;32m   1735\u001b[0m     \u001b[38;5;124m\"\u001b[39m\u001b[38;5;124mtrain\u001b[39m\u001b[38;5;124m\"\u001b[39m,\n\u001b[0;32m   1736\u001b[0m     epoch_num\u001b[38;5;241m=\u001b[39mepoch,\n\u001b[1;32m   (...)\u001b[0m\n\u001b[0;32m   1739\u001b[0m     _r\u001b[38;5;241m=\u001b[39m\u001b[38;5;241m1\u001b[39m,\n\u001b[0;32m   1740\u001b[0m ):\n\u001b[0;32m   1741\u001b[0m     callbacks\u001b[38;5;241m.\u001b[39mon_train_batch_begin(step)\n\u001b[1;32m-> 1742\u001b[0m     tmp_logs \u001b[38;5;241m=\u001b[39m \u001b[38;5;28mself\u001b[39m\u001b[38;5;241m.\u001b[39mtrain_function(iterator)\n\u001b[0;32m   1743\u001b[0m     \u001b[38;5;28;01mif\u001b[39;00m data_handler\u001b[38;5;241m.\u001b[39mshould_sync:\n\u001b[0;32m   1744\u001b[0m         context\u001b[38;5;241m.\u001b[39masync_wait()\n",
      "File \u001b[1;32m~\\Anaconda3\\Lib\\site-packages\\tensorflow\\python\\util\\traceback_utils.py:150\u001b[0m, in \u001b[0;36mfilter_traceback.<locals>.error_handler\u001b[1;34m(*args, **kwargs)\u001b[0m\n\u001b[0;32m    148\u001b[0m filtered_tb \u001b[38;5;241m=\u001b[39m \u001b[38;5;28;01mNone\u001b[39;00m\n\u001b[0;32m    149\u001b[0m \u001b[38;5;28;01mtry\u001b[39;00m:\n\u001b[1;32m--> 150\u001b[0m   \u001b[38;5;28;01mreturn\u001b[39;00m fn(\u001b[38;5;241m*\u001b[39margs, \u001b[38;5;241m*\u001b[39m\u001b[38;5;241m*\u001b[39mkwargs)\n\u001b[0;32m    151\u001b[0m \u001b[38;5;28;01mexcept\u001b[39;00m \u001b[38;5;167;01mException\u001b[39;00m \u001b[38;5;28;01mas\u001b[39;00m e:\n\u001b[0;32m    152\u001b[0m   filtered_tb \u001b[38;5;241m=\u001b[39m _process_traceback_frames(e\u001b[38;5;241m.\u001b[39m__traceback__)\n",
      "File \u001b[1;32m~\\Anaconda3\\Lib\\site-packages\\tensorflow\\python\\eager\\polymorphic_function\\polymorphic_function.py:825\u001b[0m, in \u001b[0;36mFunction.__call__\u001b[1;34m(self, *args, **kwds)\u001b[0m\n\u001b[0;32m    822\u001b[0m compiler \u001b[38;5;241m=\u001b[39m \u001b[38;5;124m\"\u001b[39m\u001b[38;5;124mxla\u001b[39m\u001b[38;5;124m\"\u001b[39m \u001b[38;5;28;01mif\u001b[39;00m \u001b[38;5;28mself\u001b[39m\u001b[38;5;241m.\u001b[39m_jit_compile \u001b[38;5;28;01melse\u001b[39;00m \u001b[38;5;124m\"\u001b[39m\u001b[38;5;124mnonXla\u001b[39m\u001b[38;5;124m\"\u001b[39m\n\u001b[0;32m    824\u001b[0m \u001b[38;5;28;01mwith\u001b[39;00m OptionalXlaContext(\u001b[38;5;28mself\u001b[39m\u001b[38;5;241m.\u001b[39m_jit_compile):\n\u001b[1;32m--> 825\u001b[0m   result \u001b[38;5;241m=\u001b[39m \u001b[38;5;28mself\u001b[39m\u001b[38;5;241m.\u001b[39m_call(\u001b[38;5;241m*\u001b[39margs, \u001b[38;5;241m*\u001b[39m\u001b[38;5;241m*\u001b[39mkwds)\n\u001b[0;32m    827\u001b[0m new_tracing_count \u001b[38;5;241m=\u001b[39m \u001b[38;5;28mself\u001b[39m\u001b[38;5;241m.\u001b[39mexperimental_get_tracing_count()\n\u001b[0;32m    828\u001b[0m without_tracing \u001b[38;5;241m=\u001b[39m (tracing_count \u001b[38;5;241m==\u001b[39m new_tracing_count)\n",
      "File \u001b[1;32m~\\Anaconda3\\Lib\\site-packages\\tensorflow\\python\\eager\\polymorphic_function\\polymorphic_function.py:857\u001b[0m, in \u001b[0;36mFunction._call\u001b[1;34m(self, *args, **kwds)\u001b[0m\n\u001b[0;32m    854\u001b[0m   \u001b[38;5;28mself\u001b[39m\u001b[38;5;241m.\u001b[39m_lock\u001b[38;5;241m.\u001b[39mrelease()\n\u001b[0;32m    855\u001b[0m   \u001b[38;5;66;03m# In this case we have created variables on the first call, so we run the\u001b[39;00m\n\u001b[0;32m    856\u001b[0m   \u001b[38;5;66;03m# defunned version which is guaranteed to never create variables.\u001b[39;00m\n\u001b[1;32m--> 857\u001b[0m   \u001b[38;5;28;01mreturn\u001b[39;00m \u001b[38;5;28mself\u001b[39m\u001b[38;5;241m.\u001b[39m_no_variable_creation_fn(\u001b[38;5;241m*\u001b[39margs, \u001b[38;5;241m*\u001b[39m\u001b[38;5;241m*\u001b[39mkwds)  \u001b[38;5;66;03m# pylint: disable=not-callable\u001b[39;00m\n\u001b[0;32m    858\u001b[0m \u001b[38;5;28;01melif\u001b[39;00m \u001b[38;5;28mself\u001b[39m\u001b[38;5;241m.\u001b[39m_variable_creation_fn \u001b[38;5;129;01mis\u001b[39;00m \u001b[38;5;129;01mnot\u001b[39;00m \u001b[38;5;28;01mNone\u001b[39;00m:\n\u001b[0;32m    859\u001b[0m   \u001b[38;5;66;03m# Release the lock early so that multiple threads can perform the call\u001b[39;00m\n\u001b[0;32m    860\u001b[0m   \u001b[38;5;66;03m# in parallel.\u001b[39;00m\n\u001b[0;32m    861\u001b[0m   \u001b[38;5;28mself\u001b[39m\u001b[38;5;241m.\u001b[39m_lock\u001b[38;5;241m.\u001b[39mrelease()\n",
      "File \u001b[1;32m~\\Anaconda3\\Lib\\site-packages\\tensorflow\\python\\eager\\polymorphic_function\\tracing_compiler.py:148\u001b[0m, in \u001b[0;36mTracingCompiler.__call__\u001b[1;34m(self, *args, **kwargs)\u001b[0m\n\u001b[0;32m    145\u001b[0m \u001b[38;5;28;01mwith\u001b[39;00m \u001b[38;5;28mself\u001b[39m\u001b[38;5;241m.\u001b[39m_lock:\n\u001b[0;32m    146\u001b[0m   (concrete_function,\n\u001b[0;32m    147\u001b[0m    filtered_flat_args) \u001b[38;5;241m=\u001b[39m \u001b[38;5;28mself\u001b[39m\u001b[38;5;241m.\u001b[39m_maybe_define_function(args, kwargs)\n\u001b[1;32m--> 148\u001b[0m \u001b[38;5;28;01mreturn\u001b[39;00m concrete_function\u001b[38;5;241m.\u001b[39m_call_flat(\n\u001b[0;32m    149\u001b[0m     filtered_flat_args, captured_inputs\u001b[38;5;241m=\u001b[39mconcrete_function\u001b[38;5;241m.\u001b[39mcaptured_inputs)\n",
      "File \u001b[1;32m~\\Anaconda3\\Lib\\site-packages\\tensorflow\\python\\eager\\polymorphic_function\\monomorphic_function.py:1349\u001b[0m, in \u001b[0;36mConcreteFunction._call_flat\u001b[1;34m(self, args, captured_inputs)\u001b[0m\n\u001b[0;32m   1345\u001b[0m possible_gradient_type \u001b[38;5;241m=\u001b[39m gradients_util\u001b[38;5;241m.\u001b[39mPossibleTapeGradientTypes(args)\n\u001b[0;32m   1346\u001b[0m \u001b[38;5;28;01mif\u001b[39;00m (possible_gradient_type \u001b[38;5;241m==\u001b[39m gradients_util\u001b[38;5;241m.\u001b[39mPOSSIBLE_GRADIENT_TYPES_NONE\n\u001b[0;32m   1347\u001b[0m     \u001b[38;5;129;01mand\u001b[39;00m executing_eagerly):\n\u001b[0;32m   1348\u001b[0m   \u001b[38;5;66;03m# No tape is watching; skip to running the function.\u001b[39;00m\n\u001b[1;32m-> 1349\u001b[0m   \u001b[38;5;28;01mreturn\u001b[39;00m \u001b[38;5;28mself\u001b[39m\u001b[38;5;241m.\u001b[39m_build_call_outputs(\u001b[38;5;28mself\u001b[39m\u001b[38;5;241m.\u001b[39m_inference_function(\u001b[38;5;241m*\u001b[39margs))\n\u001b[0;32m   1350\u001b[0m forward_backward \u001b[38;5;241m=\u001b[39m \u001b[38;5;28mself\u001b[39m\u001b[38;5;241m.\u001b[39m_select_forward_and_backward_functions(\n\u001b[0;32m   1351\u001b[0m     args,\n\u001b[0;32m   1352\u001b[0m     possible_gradient_type,\n\u001b[0;32m   1353\u001b[0m     executing_eagerly)\n\u001b[0;32m   1354\u001b[0m forward_function, args_with_tangents \u001b[38;5;241m=\u001b[39m forward_backward\u001b[38;5;241m.\u001b[39mforward()\n",
      "File \u001b[1;32m~\\Anaconda3\\Lib\\site-packages\\tensorflow\\python\\eager\\polymorphic_function\\atomic_function.py:196\u001b[0m, in \u001b[0;36mAtomicFunction.__call__\u001b[1;34m(self, *args)\u001b[0m\n\u001b[0;32m    194\u001b[0m \u001b[38;5;28;01mwith\u001b[39;00m record\u001b[38;5;241m.\u001b[39mstop_recording():\n\u001b[0;32m    195\u001b[0m   \u001b[38;5;28;01mif\u001b[39;00m \u001b[38;5;28mself\u001b[39m\u001b[38;5;241m.\u001b[39m_bound_context\u001b[38;5;241m.\u001b[39mexecuting_eagerly():\n\u001b[1;32m--> 196\u001b[0m     outputs \u001b[38;5;241m=\u001b[39m \u001b[38;5;28mself\u001b[39m\u001b[38;5;241m.\u001b[39m_bound_context\u001b[38;5;241m.\u001b[39mcall_function(\n\u001b[0;32m    197\u001b[0m         \u001b[38;5;28mself\u001b[39m\u001b[38;5;241m.\u001b[39mname,\n\u001b[0;32m    198\u001b[0m         \u001b[38;5;28mlist\u001b[39m(args),\n\u001b[0;32m    199\u001b[0m         \u001b[38;5;28mlen\u001b[39m(\u001b[38;5;28mself\u001b[39m\u001b[38;5;241m.\u001b[39mfunction_type\u001b[38;5;241m.\u001b[39mflat_outputs),\n\u001b[0;32m    200\u001b[0m     )\n\u001b[0;32m    201\u001b[0m   \u001b[38;5;28;01melse\u001b[39;00m:\n\u001b[0;32m    202\u001b[0m     outputs \u001b[38;5;241m=\u001b[39m make_call_op_in_graph(\u001b[38;5;28mself\u001b[39m, \u001b[38;5;28mlist\u001b[39m(args))\n",
      "File \u001b[1;32m~\\Anaconda3\\Lib\\site-packages\\tensorflow\\python\\eager\\context.py:1457\u001b[0m, in \u001b[0;36mContext.call_function\u001b[1;34m(self, name, tensor_inputs, num_outputs)\u001b[0m\n\u001b[0;32m   1455\u001b[0m cancellation_context \u001b[38;5;241m=\u001b[39m cancellation\u001b[38;5;241m.\u001b[39mcontext()\n\u001b[0;32m   1456\u001b[0m \u001b[38;5;28;01mif\u001b[39;00m cancellation_context \u001b[38;5;129;01mis\u001b[39;00m \u001b[38;5;28;01mNone\u001b[39;00m:\n\u001b[1;32m-> 1457\u001b[0m   outputs \u001b[38;5;241m=\u001b[39m execute\u001b[38;5;241m.\u001b[39mexecute(\n\u001b[0;32m   1458\u001b[0m       name\u001b[38;5;241m.\u001b[39mdecode(\u001b[38;5;124m\"\u001b[39m\u001b[38;5;124mutf-8\u001b[39m\u001b[38;5;124m\"\u001b[39m),\n\u001b[0;32m   1459\u001b[0m       num_outputs\u001b[38;5;241m=\u001b[39mnum_outputs,\n\u001b[0;32m   1460\u001b[0m       inputs\u001b[38;5;241m=\u001b[39mtensor_inputs,\n\u001b[0;32m   1461\u001b[0m       attrs\u001b[38;5;241m=\u001b[39mattrs,\n\u001b[0;32m   1462\u001b[0m       ctx\u001b[38;5;241m=\u001b[39m\u001b[38;5;28mself\u001b[39m,\n\u001b[0;32m   1463\u001b[0m   )\n\u001b[0;32m   1464\u001b[0m \u001b[38;5;28;01melse\u001b[39;00m:\n\u001b[0;32m   1465\u001b[0m   outputs \u001b[38;5;241m=\u001b[39m execute\u001b[38;5;241m.\u001b[39mexecute_with_cancellation(\n\u001b[0;32m   1466\u001b[0m       name\u001b[38;5;241m.\u001b[39mdecode(\u001b[38;5;124m\"\u001b[39m\u001b[38;5;124mutf-8\u001b[39m\u001b[38;5;124m\"\u001b[39m),\n\u001b[0;32m   1467\u001b[0m       num_outputs\u001b[38;5;241m=\u001b[39mnum_outputs,\n\u001b[1;32m   (...)\u001b[0m\n\u001b[0;32m   1471\u001b[0m       cancellation_manager\u001b[38;5;241m=\u001b[39mcancellation_context,\n\u001b[0;32m   1472\u001b[0m   )\n",
      "File \u001b[1;32m~\\Anaconda3\\Lib\\site-packages\\tensorflow\\python\\eager\\execute.py:53\u001b[0m, in \u001b[0;36mquick_execute\u001b[1;34m(op_name, num_outputs, inputs, attrs, ctx, name)\u001b[0m\n\u001b[0;32m     51\u001b[0m \u001b[38;5;28;01mtry\u001b[39;00m:\n\u001b[0;32m     52\u001b[0m   ctx\u001b[38;5;241m.\u001b[39mensure_initialized()\n\u001b[1;32m---> 53\u001b[0m   tensors \u001b[38;5;241m=\u001b[39m pywrap_tfe\u001b[38;5;241m.\u001b[39mTFE_Py_Execute(ctx\u001b[38;5;241m.\u001b[39m_handle, device_name, op_name,\n\u001b[0;32m     54\u001b[0m                                       inputs, attrs, num_outputs)\n\u001b[0;32m     55\u001b[0m \u001b[38;5;28;01mexcept\u001b[39;00m core\u001b[38;5;241m.\u001b[39m_NotOkStatusException \u001b[38;5;28;01mas\u001b[39;00m e:\n\u001b[0;32m     56\u001b[0m   \u001b[38;5;28;01mif\u001b[39;00m name \u001b[38;5;129;01mis\u001b[39;00m \u001b[38;5;129;01mnot\u001b[39;00m \u001b[38;5;28;01mNone\u001b[39;00m:\n",
      "\u001b[1;31mKeyboardInterrupt\u001b[0m: "
     ]
    }
   ],
   "source": [
    "model.compile(optimizer=tf.keras.optimizers.Adam(learning_rate=1e-3), loss=CTCLoss)\n",
    "\n",
    "checkpoint_check = ModelCheckpoint(os.path.join('models', 'checkpoint'), save_weights_only=False)\n",
    "lr_check = LearningRateScheduler(lr_scheduler)\n",
    "produce_example = ProduceExample(test)\n",
    "\n",
    "model.fit(train, validation_data=test, callbacks=[checkpoint_check, lr_check, produce_example])"
   ]
  },
  {
   "cell_type": "code",
   "execution_count": 76,
   "id": "6c94f095",
   "metadata": {},
   "outputs": [
    {
     "name": "stdout",
     "output_type": "stream",
     "text": [
      "1/1 [==============================] - 8s 8s/step\n"
     ]
    }
   ],
   "source": [
    "sample = data.as_numpy_iterator()\n",
    "\n",
    "sample_data = sample.next()\n",
    "\n",
    "prediction = model.predict(sample_data[0])"
   ]
  },
  {
   "cell_type": "code",
   "execution_count": 82,
   "id": "afebc4ca",
   "metadata": {},
   "outputs": [
    {
     "name": "stdout",
     "output_type": "stream",
     "text": [
      "Actual:\n",
      " \n",
      "lay blue by e one soon                  place green by k eight please           \n"
     ]
    }
   ],
   "source": [
    "print('Actual:')\n",
    "print(' ')\n",
    "predictions=tf.strings.reduce_join(num_to_char(sample_data[1])).numpy().decode('utf-8')\n",
    "print(predictions)"
   ]
  },
  {
   "cell_type": "code",
   "execution_count": 84,
   "id": "cd930ecc",
   "metadata": {},
   "outputs": [
    {
     "data": {
      "text/plain": [
       "(2, 69, 38)"
      ]
     },
     "execution_count": 84,
     "metadata": {},
     "output_type": "execute_result"
    }
   ],
   "source": [
    "prediction.shape"
   ]
  },
  {
   "cell_type": "code",
   "execution_count": 90,
   "id": "f396ad7c",
   "metadata": {},
   "outputs": [
    {
     "name": "stdout",
     "output_type": "stream",
     "text": [
      "Predictions\n",
      " \n"
     ]
    },
    {
     "data": {
      "text/plain": [
       "[<tf.Tensor: shape=(), dtype=string, numpy=b'be                                                                   '>,\n",
       " <tf.Tensor: shape=(), dtype=string, numpy=b'be                                                                   '>]"
      ]
     },
     "execution_count": 90,
     "metadata": {},
     "output_type": "execute_result"
    }
   ],
   "source": [
    "print('Predictions')\n",
    "print(' ')\n",
    "\n",
    "decoded = tf.keras.backend.ctc_decode(prediction, input_length=[69, 38], greedy=True)[0][0].numpy()\n",
    "\n",
    "[tf.strings.reduce_join([num_to_char(word) for word in sentence]) for sentence in decoded]\n"
   ]
  }
 ],
 "metadata": {
  "kernelspec": {
   "display_name": "Python 3 (ipykernel)",
   "language": "python",
   "name": "python3"
  },
  "language_info": {
   "codemirror_mode": {
    "name": "ipython",
    "version": 3
   },
   "file_extension": ".py",
   "mimetype": "text/x-python",
   "name": "python",
   "nbconvert_exporter": "python",
   "pygments_lexer": "ipython3",
   "version": "3.11.4"
  }
 },
 "nbformat": 4,
 "nbformat_minor": 5
}
