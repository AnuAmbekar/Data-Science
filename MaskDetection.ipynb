{
 "cells": [
  {
   "cell_type": "markdown",
   "id": "ac28c56e",
   "metadata": {},
   "source": [
    "## Dataset information:\n",
    "\n",
    "### Data source: https://www.kaggle.com/datasets/andrewmvd/face-mask-detection/data\n",
    "\n",
    "Description: the data contains .png images in a folder called 'images' and .xml files in a folder called 'annotations.'\n",
    "For every image there is a corresponding XML file. Every XML file has information on the people detected in each image, such\n",
    "as if they are wearing a mask or not as well as the xmin, ymin, xmax, ymax coordinates, which are the coordinates to the rectangular shape around their face."
   ]
  },
  {
   "cell_type": "code",
   "execution_count": null,
   "id": "08629641",
   "metadata": {},
   "outputs": [],
   "source": [
    "import tensorflow as tf\n",
    "import numpy as np\n",
    "import matplotlib.pyplot as plt\n",
    "from PIL import Image\n",
    "import os\n",
    "import xml.etree.ElementTree as ET\n",
    "import pandas as pd\n",
    "import cv2\n",
    "from natsort import natsorted\n",
    "from sklearn.model_selection import train_test_split"
   ]
  },
  {
   "cell_type": "code",
   "execution_count": 2,
   "id": "244b913d",
   "metadata": {},
   "outputs": [],
   "source": [
    "data_dir = os.path.join(os.getcwd(), os.listdir(os.getcwd())[1])"
   ]
  },
  {
   "cell_type": "code",
   "execution_count": 3,
   "id": "31d1cc58",
   "metadata": {},
   "outputs": [],
   "source": [
    "xml = []; png = []\n",
    "\n",
    "for folders, _, filenames in os.walk(data_dir):\n",
    "    for file in filenames:\n",
    "        if file.endswith('xml'):\n",
    "            xml.append(os.path.join(folders, file))\n",
    "        elif file.endswith('png'):\n",
    "            png.append(os.path.join(folders, file))"
   ]
  },
  {
   "cell_type": "code",
   "execution_count": 4,
   "id": "80be2042",
   "metadata": {},
   "outputs": [],
   "source": [
    "def load_xml(xml_file):\n",
    "    tree = ET.parse(xml_file)\n",
    "    root = tree.getroot()\n",
    "    \n",
    "    filenam = [(child.text) for child in root.findall('.//filename')]\n",
    "    widt = [(child.text) for child in root.findall('.//size/width')]\n",
    "    heigh = [(child.text) for child in root.findall('.//size/height')]\n",
    "    dept = [(child.text) for child in root.findall('.//size/depth')]\n",
    "    segmente = [(child.text) for child in root.findall('.//segmented')]\n",
    "    name = [(child.text) for child in root.findall('.//object/name')]\n",
    "    pose = [(child.text) for child in root.findall('.//object/pose')]\n",
    "    truncated = [(child.text) for child in root.findall('.//object/truncated')]\n",
    "    occluded = [(child.text) for child in root.findall('.//object/occluded')]\n",
    "    difficult = [(child.text) for child in root.findall('.//object/difficult')]\n",
    "    xmin = [(child.text) for child in root.findall('.//object/bndbox/xmin')]\n",
    "    ymin = [(child.text) for child in root.findall('.//object/bndbox/ymin')]\n",
    "    xmax = [(child.text) for child in root.findall('.//object/bndbox/xmax')]\n",
    "    ymax = [(child.text) for child in root.findall('.//object/bndbox/ymax')]\n",
    "    \n",
    "    \n",
    "    \n",
    "    filename = []\n",
    "    for i in filenam:\n",
    "        for ele in range(len(xmin)):\n",
    "            filename.append(i)\n",
    "            \n",
    "    width = []\n",
    "    for i in widt:\n",
    "        for ele in range(len(xmin)):\n",
    "            width.append(i)\n",
    "            \n",
    "    height = []\n",
    "    for i in heigh:\n",
    "        for ele in range(len(xmin)):\n",
    "            height.append(i)\n",
    "            \n",
    "    depth = []\n",
    "    for i in dept:\n",
    "        for ele in range(len(xmin)):\n",
    "            depth.append(i)\n",
    "            \n",
    "    segmented = []\n",
    "    for i in segmente:\n",
    "        for ele in range(len(xmin)):\n",
    "            segmented.append(i)\n",
    "     \n",
    " \n",
    "    return pd.DataFrame({\n",
    "        'filename': filename,\n",
    "        'width': width,\n",
    "        'height': height,\n",
    "        'depth': depth,\n",
    "        'segmented': segmented,\n",
    "        'name': name,\n",
    "        'pose': pose,\n",
    "        'truncated': truncated,\n",
    "        'occluded': occluded,\n",
    "        'difficult': difficult,\n",
    "        'xmin': xmin,\n",
    "        'ymin': ymin,\n",
    "        'xmax': xmax,\n",
    "        'ymax': ymax})"
   ]
  },
  {
   "cell_type": "code",
   "execution_count": 5,
   "id": "9187d1ae",
   "metadata": {},
   "outputs": [
    {
     "data": {
      "text/html": [
       "<div>\n",
       "<style scoped>\n",
       "    .dataframe tbody tr th:only-of-type {\n",
       "        vertical-align: middle;\n",
       "    }\n",
       "\n",
       "    .dataframe tbody tr th {\n",
       "        vertical-align: top;\n",
       "    }\n",
       "\n",
       "    .dataframe thead th {\n",
       "        text-align: right;\n",
       "    }\n",
       "</style>\n",
       "<table border=\"1\" class=\"dataframe\">\n",
       "  <thead>\n",
       "    <tr style=\"text-align: right;\">\n",
       "      <th></th>\n",
       "      <th>filename</th>\n",
       "      <th>width</th>\n",
       "      <th>height</th>\n",
       "      <th>depth</th>\n",
       "      <th>segmented</th>\n",
       "      <th>name</th>\n",
       "      <th>pose</th>\n",
       "      <th>truncated</th>\n",
       "      <th>occluded</th>\n",
       "      <th>difficult</th>\n",
       "      <th>xmin</th>\n",
       "      <th>ymin</th>\n",
       "      <th>xmax</th>\n",
       "      <th>ymax</th>\n",
       "    </tr>\n",
       "  </thead>\n",
       "  <tbody>\n",
       "    <tr>\n",
       "      <th>0</th>\n",
       "      <td>maksssksksss107.png</td>\n",
       "      <td>301</td>\n",
       "      <td>400</td>\n",
       "      <td>3</td>\n",
       "      <td>0</td>\n",
       "      <td>with_mask</td>\n",
       "      <td>Unspecified</td>\n",
       "      <td>0</td>\n",
       "      <td>0</td>\n",
       "      <td>0</td>\n",
       "      <td>121</td>\n",
       "      <td>192</td>\n",
       "      <td>212</td>\n",
       "      <td>312</td>\n",
       "    </tr>\n",
       "  </tbody>\n",
       "</table>\n",
       "</div>"
      ],
      "text/plain": [
       "              filename width height depth segmented       name         pose  \\\n",
       "0  maksssksksss107.png   301    400     3         0  with_mask  Unspecified   \n",
       "\n",
       "  truncated occluded difficult xmin ymin xmax ymax  \n",
       "0         0        0         0  121  192  212  312  "
      ]
     },
     "execution_count": 5,
     "metadata": {},
     "output_type": "execute_result"
    }
   ],
   "source": [
    "load_xml(xml[10])"
   ]
  },
  {
   "cell_type": "code",
   "execution_count": 6,
   "id": "36780e0a",
   "metadata": {},
   "outputs": [],
   "source": [
    "dataframes = []\n",
    "\n",
    "for x in xml:\n",
    "    dataframe = load_xml(x)\n",
    "    dataframes.append(dataframe)\n",
    "    \n",
    "df = pd.concat(dataframes, ignore_index=True)"
   ]
  },
  {
   "cell_type": "code",
   "execution_count": 7,
   "id": "693e0dfc",
   "metadata": {},
   "outputs": [
    {
     "data": {
      "text/plain": [
       "array(['without_mask', 'with_mask', 'mask_weared_incorrect'], dtype=object)"
      ]
     },
     "execution_count": 7,
     "metadata": {},
     "output_type": "execute_result"
    }
   ],
   "source": [
    "df['name'].unique()"
   ]
  },
  {
   "cell_type": "code",
   "execution_count": 8,
   "id": "438c880f",
   "metadata": {},
   "outputs": [],
   "source": [
    "def load_image(png_file):\n",
    "    image = Image.open(png_file)\n",
    "    image = np.array(image)\n",
    "    image = cv2.cvtColor(image, cv2.COLOR_BGR2RGB)\n",
    "    \n",
    "    desired_image = df.loc[df['filename'] == png_file.split('\\\\')[-1]]\n",
    "    \n",
    "    for index, row in desired_image.iterrows():\n",
    "        \n",
    "        xmin = int(row['xmin'])\n",
    "        ymin = int(row['ymin'])\n",
    "        xmax = int(row['xmax'])\n",
    "        ymax = int(row['ymax'])\n",
    "        \n",
    "        if row['name'] == 'with_mask':\n",
    "            cv2.rectangle(image, (xmin, ymin), (xmax, ymax), (0, 255, 0), 2)\n",
    "            \n",
    "        elif row['name'] == 'without_mask':\n",
    "            cv2.rectangle(image, (xmin, ymin), (xmax, ymax), (0, 0, 255), 2)\n",
    "            \n",
    "        elif row['name'] == 'mask_weared_incorrect':\n",
    "            cv2.rectangle(image, (xmin, ymin), (xmax, ymax), (255, 0, 0), 2)\n",
    "            \n",
    "        if cv2.waitKey(1) & 0xFF == ord('q'):\n",
    "            break\n",
    "            \n",
    "        cv2.imshow('image', image)\n",
    "        \n",
    "    cv2.waitKey(0)\n",
    "    cv2.destroyAllWindows()"
   ]
  },
  {
   "cell_type": "code",
   "execution_count": 9,
   "id": "fa6cd39e",
   "metadata": {},
   "outputs": [],
   "source": [
    "load_image(png[68])"
   ]
  },
  {
   "cell_type": "code",
   "execution_count": null,
   "id": "2fd9b290",
   "metadata": {},
   "outputs": [],
   "source": []
  },
  {
   "cell_type": "code",
   "execution_count": 10,
   "id": "6ed72bc1",
   "metadata": {},
   "outputs": [],
   "source": [
    "def crop_image(png_file):\n",
    "    individual_cropped_images = []\n",
    "    image = Image.open(png_file)\n",
    "    image = np.array(image)\n",
    "    image = cv2.cvtColor(image, cv2.COLOR_BGR2RGB)\n",
    "    \n",
    "    desired_image = df.loc[df['filename'] == png_file.split('\\\\')[-1]]\n",
    "    \n",
    "    for index, row in desired_image.iterrows():\n",
    "        \n",
    "        xmin = int(row['xmin'])\n",
    "        ymin = int(row['ymin'])\n",
    "        xmax = int(row['xmax'])\n",
    "        ymax = int(row['ymax'])\n",
    "        \n",
    "        image = os.path.join(os.path.join(data_dir, os.listdir(data_dir)[1]),  row['filename'])\n",
    "        \n",
    "        \n",
    "        image_to_crop = Image.open(image)\n",
    "        \n",
    "        cropped_image = image_to_crop.crop((xmin, ymin, xmax, ymax))\n",
    "        \n",
    "        individual_cropped_images.append(cropped_image)\n",
    "        \n",
    "    return individual_cropped_images"
   ]
  },
  {
   "cell_type": "code",
   "execution_count": 11,
   "id": "228bd589",
   "metadata": {},
   "outputs": [],
   "source": [
    "all_cropped_images = []\n",
    "\n",
    "for i in png:\n",
    "    images = crop_image(i)\n",
    "    all_cropped_images.extend(images)"
   ]
  },
  {
   "cell_type": "code",
   "execution_count": 12,
   "id": "3f016576",
   "metadata": {},
   "outputs": [],
   "source": [
    "os.mkdir(os.path.join(data_dir, 'cropped_images'))"
   ]
  },
  {
   "cell_type": "code",
   "execution_count": 13,
   "id": "db939dd9",
   "metadata": {},
   "outputs": [
    {
     "data": {
      "text/plain": [
       "'C:\\\\Users\\\\anurag\\\\Documents\\\\Python\\\\Mask Detection\\\\data\\\\cropped_images'"
      ]
     },
     "execution_count": 13,
     "metadata": {},
     "output_type": "execute_result"
    }
   ],
   "source": [
    "cropped_img_path = os.path.join(data_dir, 'cropped_images')\n",
    "cropped_img_path"
   ]
  },
  {
   "cell_type": "code",
   "execution_count": 14,
   "id": "c9229bbd",
   "metadata": {},
   "outputs": [],
   "source": [
    "for index, image in enumerate(all_cropped_images):  \n",
    "    image.save(f\"{cropped_img_path}\\\\image{index}.png\")"
   ]
  },
  {
   "cell_type": "code",
   "execution_count": 15,
   "id": "d49b0fda",
   "metadata": {},
   "outputs": [],
   "source": [
    "from natsort import natsorted\n",
    "\n",
    "cropped_image_files = []\n",
    "for folders, _, filenames in os.walk(cropped_img_path):\n",
    "    files = natsorted(filenames)\n",
    "    cropped_image_files.extend(files)"
   ]
  },
  {
   "cell_type": "code",
   "execution_count": 16,
   "id": "216d7e25",
   "metadata": {},
   "outputs": [
    {
     "data": {
      "text/plain": [
       "4072"
      ]
     },
     "execution_count": 16,
     "metadata": {},
     "output_type": "execute_result"
    }
   ],
   "source": [
    "len(cropped_image_files)"
   ]
  },
  {
   "cell_type": "code",
   "execution_count": 17,
   "id": "94480d7d",
   "metadata": {},
   "outputs": [],
   "source": [
    "df['filename'] = cropped_image_files"
   ]
  },
  {
   "cell_type": "code",
   "execution_count": 18,
   "id": "addd7d0a",
   "metadata": {},
   "outputs": [],
   "source": [
    "pixellated_images = []\n",
    "resized_image = (224, 224)\n",
    "\n",
    "for index, row in df.iterrows():\n",
    "    filename = row['filename']\n",
    "    image = Image.open(os.path.join(cropped_img_path, filename))\n",
    "    image = image.resize(resized_image)\n",
    "    image = np.array(image).astype('float32')\n",
    "    image /= 255.0\n",
    "    pixellated_images.append(image)"
   ]
  },
  {
   "cell_type": "code",
   "execution_count": 19,
   "id": "7c5df8b4",
   "metadata": {},
   "outputs": [
    {
     "data": {
      "text/plain": [
       "4072"
      ]
     },
     "execution_count": 19,
     "metadata": {},
     "output_type": "execute_result"
    }
   ],
   "source": [
    "len(pixellated_images)"
   ]
  },
  {
   "cell_type": "code",
   "execution_count": 20,
   "id": "72e5a2d4",
   "metadata": {},
   "outputs": [],
   "source": [
    "refined_images=[]\n",
    "index_to_remove=[]\n",
    "for index, i in enumerate(pixellated_images):\n",
    "    if np.shape(i) == (224, 224, 4):\n",
    "        refined_images.append(i)\n",
    "    else:\n",
    "        index_to_remove.append(index)"
   ]
  },
  {
   "cell_type": "code",
   "execution_count": 21,
   "id": "d11da0f3",
   "metadata": {},
   "outputs": [],
   "source": [
    "df = df.drop(index=index_to_remove)"
   ]
  },
  {
   "cell_type": "code",
   "execution_count": 22,
   "id": "0e9c4536",
   "metadata": {},
   "outputs": [
    {
     "data": {
      "text/plain": [
       "4000"
      ]
     },
     "execution_count": 22,
     "metadata": {},
     "output_type": "execute_result"
    }
   ],
   "source": [
    "len(refined_images)"
   ]
  },
  {
   "cell_type": "code",
   "execution_count": 23,
   "id": "f8bd7dce",
   "metadata": {},
   "outputs": [
    {
     "data": {
      "text/plain": [
       "4000"
      ]
     },
     "execution_count": 23,
     "metadata": {},
     "output_type": "execute_result"
    }
   ],
   "source": [
    "len(refined_images)"
   ]
  },
  {
   "cell_type": "code",
   "execution_count": 24,
   "id": "98d1496a",
   "metadata": {},
   "outputs": [
    {
     "data": {
      "text/plain": [
       "4000"
      ]
     },
     "execution_count": 24,
     "metadata": {},
     "output_type": "execute_result"
    }
   ],
   "source": [
    "len(df)"
   ]
  },
  {
   "cell_type": "code",
   "execution_count": 25,
   "id": "59739627",
   "metadata": {},
   "outputs": [],
   "source": [
    "from sklearn.preprocessing import LabelEncoder\n",
    "\n",
    "le = LabelEncoder()\n",
    "df['name'] = le.fit_transform(df['name'])"
   ]
  },
  {
   "cell_type": "code",
   "execution_count": 26,
   "id": "aca5a3e9",
   "metadata": {},
   "outputs": [],
   "source": [
    "X = refined_images\n",
    "y = df['name']"
   ]
  },
  {
   "cell_type": "code",
   "execution_count": 27,
   "id": "e9a2b184",
   "metadata": {},
   "outputs": [
    {
     "data": {
      "text/plain": [
       "4000"
      ]
     },
     "execution_count": 27,
     "metadata": {},
     "output_type": "execute_result"
    }
   ],
   "source": [
    "len(y)"
   ]
  },
  {
   "cell_type": "code",
   "execution_count": 28,
   "id": "73f30ed6",
   "metadata": {},
   "outputs": [],
   "source": [
    "X_train, X_test, y_train, y_test = train_test_split(X, y, test_size=0.33, random_state=42)"
   ]
  },
  {
   "cell_type": "code",
   "execution_count": 29,
   "id": "99cb94ed",
   "metadata": {},
   "outputs": [],
   "source": [
    "X_train = np.array(X_train)\n",
    "X_test = np.array(X_test)\n",
    "y_train = np.array(y_train)\n",
    "y_test = np.array(y_test)"
   ]
  },
  {
   "cell_type": "code",
   "execution_count": 30,
   "id": "e26e4d6c",
   "metadata": {
    "scrolled": false
   },
   "outputs": [
    {
     "name": "stdout",
     "output_type": "stream",
     "text": [
      "Epoch 1/10\n",
      "84/84 [==============================] - 205s 2s/step - loss: 0.4281 - accuracy: 0.8918 - val_loss: 0.2677 - val_accuracy: 0.9182\n",
      "Epoch 2/10\n",
      "84/84 [==============================] - 180s 2s/step - loss: 0.1934 - accuracy: 0.9444 - val_loss: 0.2507 - val_accuracy: 0.9212\n",
      "Epoch 3/10\n",
      "84/84 [==============================] - 172s 2s/step - loss: 0.1814 - accuracy: 0.9444 - val_loss: 0.2914 - val_accuracy: 0.9083\n",
      "Epoch 4/10\n",
      "84/84 [==============================] - 172s 2s/step - loss: 0.1721 - accuracy: 0.9407 - val_loss: 0.2317 - val_accuracy: 0.9288\n",
      "Epoch 5/10\n",
      "84/84 [==============================] - 190s 2s/step - loss: 0.1670 - accuracy: 0.9493 - val_loss: 0.2321 - val_accuracy: 0.9318\n",
      "Epoch 6/10\n",
      "84/84 [==============================] - 175s 2s/step - loss: 0.1430 - accuracy: 0.9549 - val_loss: 0.2290 - val_accuracy: 0.9258\n",
      "Epoch 7/10\n",
      "84/84 [==============================] - 175s 2s/step - loss: 0.1493 - accuracy: 0.9534 - val_loss: 0.2413 - val_accuracy: 0.9212\n",
      "Epoch 8/10\n",
      "84/84 [==============================] - 186s 2s/step - loss: 0.1253 - accuracy: 0.9590 - val_loss: 0.2157 - val_accuracy: 0.9318\n",
      "Epoch 9/10\n",
      "84/84 [==============================] - 171s 2s/step - loss: 0.1187 - accuracy: 0.9571 - val_loss: 0.2669 - val_accuracy: 0.9273\n",
      "Epoch 10/10\n",
      "84/84 [==============================] - 172s 2s/step - loss: 0.1133 - accuracy: 0.9642 - val_loss: 0.2722 - val_accuracy: 0.9303\n"
     ]
    },
    {
     "data": {
      "text/plain": [
       "<keras.src.callbacks.History at 0x22a517ba110>"
      ]
     },
     "execution_count": 30,
     "metadata": {},
     "output_type": "execute_result"
    }
   ],
   "source": [
    "model = tf.keras.models.Sequential()\n",
    "model.add(tf.keras.layers.Conv2D(32, (3, 3), activation='relu', input_shape=(224, 224, 4)))\n",
    "model.add(tf.keras.layers.MaxPooling2D((2, 2)))\n",
    "model.add(tf.keras.layers.Conv2D(64, (3, 3), activation='relu'))\n",
    "model.add(tf.keras.layers.MaxPooling2D((2, 2)))\n",
    "model.add(tf.keras.layers.Conv2D(64, (3, 3), activation='relu'))\n",
    "model.add(tf.keras.layers.Flatten())\n",
    "model.add(tf.keras.layers.Dense(64, activation='relu'))\n",
    "model.add(tf.keras.layers.Dense(10))\n",
    "\n",
    "model.compile(optimizer='adam',\n",
    "              loss=tf.keras.losses.SparseCategoricalCrossentropy(from_logits=True),\n",
    "              metrics=['accuracy'])\n",
    "\n",
    "model.fit(X_train, y_train, epochs=10, \n",
    "                    validation_data=(X_test, y_test))"
   ]
  },
  {
   "cell_type": "code",
   "execution_count": null,
   "id": "2b2da020",
   "metadata": {},
   "outputs": [],
   "source": []
  },
  {
   "cell_type": "code",
   "execution_count": 31,
   "id": "62391fb4",
   "metadata": {},
   "outputs": [
    {
     "data": {
      "text/plain": [
       "<matplotlib.image.AxesImage at 0x22ba7c504d0>"
      ]
     },
     "execution_count": 31,
     "metadata": {},
     "output_type": "execute_result"
    },
    {
     "data": {
      "image/png": "[encoded data removed]",
      "text/plain": [
       "<Figure size 640x480 with 1 Axes>"
      ]
     },
     "metadata": {},
     "output_type": "display_data"
    }
   ],
   "source": [
    "plt.imshow(X_test[91])"
   ]
  },
  {
   "cell_type": "code",
   "execution_count": 32,
   "id": "83c668c6",
   "metadata": {},
   "outputs": [],
   "source": [
    "\n",
    "image = tf.expand_dims(X_test[658], axis=0)"
   ]
  },
  {
   "cell_type": "code",
   "execution_count": 33,
   "id": "58a29f62",
   "metadata": {},
   "outputs": [
    {
     "name": "stdout",
     "output_type": "stream",
     "text": [
      "1/1 [==============================] - 1s 1s/step\n"
     ]
    }
   ],
   "source": [
    "predictions=model.predict(image)"
   ]
  },
  {
   "cell_type": "code",
   "execution_count": 34,
   "id": "915e77d4",
   "metadata": {},
   "outputs": [
    {
     "name": "stdout",
     "output_type": "stream",
     "text": [
      "No mask\n"
     ]
    }
   ],
   "source": [
    "prediction = np.argmax(predictions)\n",
    "\n",
    "if prediction == 1:\n",
    "    print('Mask')\n",
    "    \n",
    "elif prediction  == 2:\n",
    "    print('No mask')\n",
    "    \n",
    "elif prediction == 0:\n",
    "    print('Not worn correctly')"
   ]
  },
  {
   "cell_type": "code",
   "execution_count": 35,
   "id": "97d95d04",
   "metadata": {},
   "outputs": [
    {
     "name": "stdout",
     "output_type": "stream",
     "text": [
      "1/1 [==============================] - 0s 54ms/step\n",
      "No mask\n",
      "1/1 [==============================] - 0s 66ms/step\n",
      "No mask\n",
      "1/1 [==============================] - 0s 68ms/step\n",
      "No mask\n",
      "1/1 [==============================] - 0s 57ms/step\n",
      "Mask\n",
      "1/1 [==============================] - 0s 60ms/step\n",
      "No mask\n",
      "1/1 [==============================] - 0s 60ms/step\n",
      "No mask\n",
      "1/1 [==============================] - 0s 52ms/step\n",
      "No mask\n",
      "1/1 [==============================] - 0s 55ms/step\n",
      "No mask\n",
      "1/1 [==============================] - 0s 53ms/step\n",
      "No mask\n",
      "1/1 [==============================] - 0s 60ms/step\n",
      "No mask\n",
      "1/1 [==============================] - 0s 64ms/step\n",
      "No mask\n",
      "1/1 [==============================] - 0s 61ms/step\n",
      "No mask\n",
      "1/1 [==============================] - 0s 55ms/step\n",
      "No mask\n",
      "1/1 [==============================] - 0s 49ms/step\n",
      "No mask\n",
      "1/1 [==============================] - 0s 57ms/step\n",
      "No mask\n",
      "1/1 [==============================] - 0s 68ms/step\n",
      "Mask\n",
      "1/1 [==============================] - 0s 59ms/step\n",
      "No mask\n",
      "1/1 [==============================] - 0s 62ms/step\n",
      "No mask\n",
      "1/1 [==============================] - 0s 81ms/step\n",
      "No mask\n",
      "1/1 [==============================] - 0s 55ms/step\n",
      "No mask\n",
      "1/1 [==============================] - 0s 47ms/step\n",
      "No mask\n",
      "1/1 [==============================] - 0s 58ms/step\n",
      "No mask\n",
      "1/1 [==============================] - 0s 59ms/step\n",
      "No mask\n",
      "1/1 [==============================] - 0s 54ms/step\n",
      "No mask\n",
      "1/1 [==============================] - 0s 54ms/step\n",
      "No mask\n",
      "1/1 [==============================] - 0s 56ms/step\n",
      "No mask\n",
      "1/1 [==============================] - 0s 53ms/step\n",
      "No mask\n",
      "1/1 [==============================] - 0s 60ms/step\n",
      "No mask\n",
      "1/1 [==============================] - 0s 54ms/step\n",
      "No mask\n",
      "1/1 [==============================] - 0s 56ms/step\n",
      "No mask\n",
      "1/1 [==============================] - 0s 56ms/step\n",
      "No mask\n",
      "1/1 [==============================] - 0s 60ms/step\n",
      "No mask\n",
      "1/1 [==============================] - 0s 54ms/step\n",
      "No mask\n",
      "1/1 [==============================] - 0s 55ms/step\n",
      "No mask\n",
      "1/1 [==============================] - 0s 58ms/step\n",
      "No mask\n",
      "1/1 [==============================] - 0s 63ms/step\n",
      "No mask\n",
      "1/1 [==============================] - 0s 56ms/step\n",
      "No mask\n",
      "1/1 [==============================] - 0s 58ms/step\n",
      "No mask\n",
      "1/1 [==============================] - 0s 57ms/step\n",
      "Mask\n",
      "1/1 [==============================] - 0s 48ms/step\n",
      "No mask\n",
      "1/1 [==============================] - 0s 62ms/step\n",
      "No mask\n",
      "1/1 [==============================] - 0s 51ms/step\n",
      "No mask\n",
      "1/1 [==============================] - 0s 63ms/step\n",
      "No mask\n",
      "1/1 [==============================] - 0s 60ms/step\n",
      "No mask\n",
      "1/1 [==============================] - 0s 60ms/step\n",
      "No mask\n",
      "1/1 [==============================] - 0s 46ms/step\n",
      "No mask\n",
      "1/1 [==============================] - 0s 48ms/step\n",
      "No mask\n",
      "1/1 [==============================] - 0s 54ms/step\n",
      "No mask\n",
      "1/1 [==============================] - 0s 57ms/step\n",
      "No mask\n",
      "1/1 [==============================] - 0s 59ms/step\n",
      "No mask\n",
      "1/1 [==============================] - 0s 57ms/step\n",
      "Mask\n",
      "1/1 [==============================] - 0s 53ms/step\n",
      "No mask\n",
      "1/1 [==============================] - 0s 64ms/step\n",
      "No mask\n",
      "1/1 [==============================] - 0s 62ms/step\n",
      "Mask\n",
      "1/1 [==============================] - 0s 49ms/step\n",
      "No mask\n",
      "1/1 [==============================] - 0s 50ms/step\n",
      "No mask\n",
      "1/1 [==============================] - 0s 45ms/step\n",
      "No mask\n",
      "1/1 [==============================] - 0s 56ms/step\n",
      "No mask\n",
      "1/1 [==============================] - 0s 59ms/step\n",
      "No mask\n",
      "1/1 [==============================] - 0s 57ms/step\n",
      "No mask\n",
      "1/1 [==============================] - 0s 55ms/step\n",
      "Mask\n",
      "1/1 [==============================] - 0s 51ms/step\n",
      "No mask\n",
      "1/1 [==============================] - 0s 53ms/step\n",
      "Mask\n",
      "1/1 [==============================] - 0s 50ms/step\n",
      "No mask\n",
      "1/1 [==============================] - 0s 53ms/step\n",
      "No mask\n",
      "1/1 [==============================] - 0s 57ms/step\n",
      "No mask\n",
      "1/1 [==============================] - 0s 59ms/step\n",
      "No mask\n",
      "1/1 [==============================] - 0s 67ms/step\n",
      "No mask\n",
      "1/1 [==============================] - 0s 57ms/step\n",
      "Mask\n",
      "1/1 [==============================] - 0s 56ms/step\n",
      "No mask\n",
      "1/1 [==============================] - 0s 55ms/step\n",
      "No mask\n",
      "1/1 [==============================] - 0s 48ms/step\n",
      "No mask\n",
      "1/1 [==============================] - 0s 48ms/step\n",
      "No mask\n",
      "1/1 [==============================] - 0s 50ms/step\n",
      "No mask\n",
      "1/1 [==============================] - 0s 55ms/step\n",
      "No mask\n",
      "1/1 [==============================] - 0s 58ms/step\n",
      "No mask\n",
      "1/1 [==============================] - 0s 50ms/step\n",
      "No mask\n",
      "1/1 [==============================] - 0s 56ms/step\n",
      "No mask\n",
      "1/1 [==============================] - 0s 48ms/step\n",
      "No mask\n",
      "1/1 [==============================] - 0s 47ms/step\n",
      "No mask\n",
      "1/1 [==============================] - 0s 52ms/step\n",
      "No mask\n",
      "1/1 [==============================] - 0s 46ms/step\n",
      "No mask\n",
      "1/1 [==============================] - 0s 54ms/step\n",
      "No mask\n",
      "1/1 [==============================] - 0s 57ms/step\n",
      "No mask\n",
      "1/1 [==============================] - 0s 66ms/step\n",
      "No mask\n",
      "1/1 [==============================] - 0s 59ms/step\n",
      "No mask\n",
      "1/1 [==============================] - 0s 53ms/step\n",
      "No mask\n",
      "1/1 [==============================] - 0s 50ms/step\n",
      "Not worn correctly\n",
      "1/1 [==============================] - 0s 47ms/step\n",
      "No mask\n",
      "1/1 [==============================] - 0s 46ms/step\n",
      "No mask\n",
      "1/1 [==============================] - 0s 48ms/step\n",
      "No mask\n",
      "1/1 [==============================] - 0s 61ms/step\n",
      "No mask\n",
      "1/1 [==============================] - 0s 62ms/step\n",
      "No mask\n",
      "1/1 [==============================] - 0s 53ms/step\n",
      "No mask\n",
      "1/1 [==============================] - 0s 56ms/step\n",
      "No mask\n",
      "1/1 [==============================] - 0s 54ms/step\n",
      "No mask\n",
      "1/1 [==============================] - 0s 50ms/step\n",
      "No mask\n",
      "1/1 [==============================] - 0s 53ms/step\n",
      "No mask\n",
      "1/1 [==============================] - 0s 50ms/step\n",
      "No mask\n",
      "1/1 [==============================] - 0s 58ms/step\n",
      "No mask\n",
      "1/1 [==============================] - 0s 57ms/step\n",
      "No mask\n",
      "1/1 [==============================] - 0s 64ms/step\n",
      "No mask\n",
      "1/1 [==============================] - 0s 55ms/step\n",
      "No mask\n",
      "1/1 [==============================] - 0s 48ms/step\n",
      "No mask\n",
      "1/1 [==============================] - 0s 53ms/step\n",
      "No mask\n",
      "1/1 [==============================] - 0s 51ms/step\n",
      "No mask\n",
      "1/1 [==============================] - 0s 51ms/step\n",
      "No mask\n",
      "1/1 [==============================] - 0s 58ms/step\n",
      "No mask\n",
      "1/1 [==============================] - 0s 55ms/step\n",
      "No mask\n",
      "1/1 [==============================] - 0s 56ms/step\n",
      "No mask\n",
      "1/1 [==============================] - 0s 61ms/step\n",
      "No mask\n",
      "1/1 [==============================] - 0s 52ms/step\n",
      "No mask\n",
      "1/1 [==============================] - 0s 62ms/step\n",
      "No mask\n",
      "1/1 [==============================] - 0s 59ms/step\n",
      "No mask\n",
      "1/1 [==============================] - 0s 50ms/step\n",
      "No mask\n",
      "1/1 [==============================] - 0s 54ms/step\n",
      "No mask\n",
      "1/1 [==============================] - 0s 56ms/step\n",
      "No mask\n",
      "1/1 [==============================] - 0s 60ms/step\n",
      "No mask\n",
      "1/1 [==============================] - 0s 58ms/step\n",
      "No mask\n",
      "1/1 [==============================] - 0s 53ms/step\n",
      "No mask\n",
      "1/1 [==============================] - 0s 51ms/step\n",
      "No mask\n",
      "1/1 [==============================] - 0s 49ms/step\n",
      "No mask\n",
      "1/1 [==============================] - 0s 50ms/step\n",
      "No mask\n",
      "1/1 [==============================] - 0s 57ms/step\n",
      "No mask\n",
      "1/1 [==============================] - 0s 60ms/step\n",
      "Mask\n",
      "1/1 [==============================] - 0s 60ms/step\n",
      "No mask\n",
      "1/1 [==============================] - 0s 57ms/step\n",
      "No mask\n",
      "1/1 [==============================] - 0s 55ms/step\n",
      "No mask\n",
      "1/1 [==============================] - 0s 52ms/step\n",
      "No mask\n",
      "1/1 [==============================] - 0s 47ms/step\n",
      "No mask\n",
      "1/1 [==============================] - 0s 46ms/step\n",
      "No mask\n",
      "1/1 [==============================] - 0s 57ms/step\n",
      "No mask\n",
      "1/1 [==============================] - 0s 56ms/step\n",
      "No mask\n",
      "1/1 [==============================] - 0s 53ms/step\n",
      "No mask\n",
      "1/1 [==============================] - 0s 67ms/step\n",
      "No mask\n",
      "1/1 [==============================] - 0s 49ms/step\n",
      "No mask\n",
      "1/1 [==============================] - 0s 49ms/step\n"
     ]
    },
    {
     "name": "stdout",
     "output_type": "stream",
     "text": [
      "No mask\n",
      "1/1 [==============================] - 0s 47ms/step\n",
      "No mask\n",
      "1/1 [==============================] - 0s 50ms/step\n",
      "No mask\n",
      "1/1 [==============================] - 0s 50ms/step\n",
      "No mask\n",
      "1/1 [==============================] - 0s 54ms/step\n",
      "No mask\n",
      "1/1 [==============================] - 0s 55ms/step\n",
      "No mask\n",
      "1/1 [==============================] - 0s 52ms/step\n",
      "No mask\n",
      "1/1 [==============================] - 0s 53ms/step\n",
      "No mask\n",
      "1/1 [==============================] - 0s 53ms/step\n",
      "No mask\n",
      "1/1 [==============================] - 0s 49ms/step\n",
      "Not worn correctly\n",
      "1/1 [==============================] - 0s 48ms/step\n",
      "No mask\n",
      "1/1 [==============================] - 0s 47ms/step\n",
      "No mask\n",
      "1/1 [==============================] - 0s 56ms/step\n",
      "No mask\n",
      "1/1 [==============================] - 0s 56ms/step\n",
      "No mask\n",
      "1/1 [==============================] - 0s 60ms/step\n",
      "No mask\n",
      "1/1 [==============================] - 0s 67ms/step\n",
      "No mask\n",
      "1/1 [==============================] - 0s 49ms/step\n",
      "No mask\n",
      "1/1 [==============================] - 0s 48ms/step\n",
      "No mask\n",
      "1/1 [==============================] - 0s 48ms/step\n",
      "No mask\n",
      "1/1 [==============================] - 0s 47ms/step\n",
      "No mask\n",
      "1/1 [==============================] - 0s 49ms/step\n",
      "No mask\n",
      "1/1 [==============================] - 0s 54ms/step\n",
      "No mask\n",
      "1/1 [==============================] - 0s 55ms/step\n",
      "No mask\n",
      "1/1 [==============================] - 0s 58ms/step\n",
      "No mask\n",
      "1/1 [==============================] - 0s 66ms/step\n",
      "Mask\n",
      "1/1 [==============================] - 0s 48ms/step\n",
      "No mask\n",
      "1/1 [==============================] - 0s 62ms/step\n",
      "No mask\n",
      "1/1 [==============================] - 0s 48ms/step\n",
      "No mask\n",
      "1/1 [==============================] - 0s 47ms/step\n",
      "No mask\n",
      "1/1 [==============================] - 0s 58ms/step\n",
      "No mask\n",
      "1/1 [==============================] - 0s 55ms/step\n",
      "Mask\n",
      "1/1 [==============================] - 0s 56ms/step\n",
      "No mask\n",
      "1/1 [==============================] - 0s 58ms/step\n",
      "No mask\n",
      "1/1 [==============================] - 0s 59ms/step\n",
      "No mask\n",
      "1/1 [==============================] - 0s 59ms/step\n",
      "No mask\n",
      "1/1 [==============================] - 0s 51ms/step\n",
      "No mask\n",
      "1/1 [==============================] - 0s 50ms/step\n",
      "No mask\n",
      "1/1 [==============================] - 0s 54ms/step\n",
      "No mask\n",
      "1/1 [==============================] - 0s 57ms/step\n",
      "No mask\n",
      "1/1 [==============================] - 0s 59ms/step\n",
      "No mask\n",
      "1/1 [==============================] - 0s 54ms/step\n",
      "No mask\n",
      "1/1 [==============================] - 0s 55ms/step\n",
      "No mask\n",
      "1/1 [==============================] - 0s 48ms/step\n",
      "No mask\n",
      "1/1 [==============================] - 0s 49ms/step\n",
      "No mask\n",
      "1/1 [==============================] - 0s 48ms/step\n",
      "No mask\n",
      "1/1 [==============================] - 0s 47ms/step\n",
      "No mask\n",
      "1/1 [==============================] - 0s 53ms/step\n",
      "No mask\n",
      "1/1 [==============================] - 0s 57ms/step\n",
      "No mask\n",
      "1/1 [==============================] - 0s 50ms/step\n",
      "No mask\n",
      "1/1 [==============================] - 0s 57ms/step\n",
      "No mask\n",
      "1/1 [==============================] - 0s 57ms/step\n",
      "No mask\n",
      "1/1 [==============================] - 0s 59ms/step\n",
      "No mask\n",
      "1/1 [==============================] - 0s 49ms/step\n",
      "No mask\n",
      "1/1 [==============================] - 0s 47ms/step\n",
      "No mask\n",
      "1/1 [==============================] - 0s 50ms/step\n",
      "No mask\n",
      "1/1 [==============================] - 0s 54ms/step\n",
      "Mask\n",
      "1/1 [==============================] - 0s 52ms/step\n",
      "No mask\n",
      "1/1 [==============================] - 0s 57ms/step\n",
      "No mask\n",
      "1/1 [==============================] - 0s 62ms/step\n",
      "No mask\n",
      "1/1 [==============================] - 0s 52ms/step\n",
      "Mask\n",
      "1/1 [==============================] - 0s 48ms/step\n",
      "No mask\n",
      "1/1 [==============================] - 0s 48ms/step\n",
      "No mask\n",
      "1/1 [==============================] - 0s 49ms/step\n",
      "No mask\n",
      "1/1 [==============================] - 0s 51ms/step\n",
      "No mask\n",
      "1/1 [==============================] - 0s 53ms/step\n",
      "Mask\n",
      "1/1 [==============================] - 0s 60ms/step\n",
      "No mask\n",
      "1/1 [==============================] - 0s 55ms/step\n",
      "No mask\n",
      "1/1 [==============================] - 0s 57ms/step\n",
      "No mask\n",
      "1/1 [==============================] - 0s 53ms/step\n",
      "No mask\n",
      "1/1 [==============================] - 0s 46ms/step\n",
      "No mask\n",
      "1/1 [==============================] - 0s 48ms/step\n",
      "Mask\n",
      "1/1 [==============================] - 0s 51ms/step\n",
      "No mask\n",
      "1/1 [==============================] - 0s 60ms/step\n",
      "No mask\n",
      "1/1 [==============================] - 0s 55ms/step\n",
      "No mask\n",
      "1/1 [==============================] - 0s 56ms/step\n",
      "No mask\n",
      "1/1 [==============================] - 0s 57ms/step\n",
      "No mask\n",
      "1/1 [==============================] - 0s 61ms/step\n",
      "No mask\n",
      "1/1 [==============================] - 0s 50ms/step\n",
      "Mask\n",
      "1/1 [==============================] - 0s 53ms/step\n",
      "No mask\n",
      "1/1 [==============================] - 0s 49ms/step\n",
      "No mask\n",
      "1/1 [==============================] - 0s 48ms/step\n",
      "No mask\n",
      "1/1 [==============================] - 0s 52ms/step\n",
      "No mask\n",
      "1/1 [==============================] - 0s 61ms/step\n",
      "No mask\n"
     ]
    }
   ],
   "source": [
    "no_mask = []\n",
    "mask = []\n",
    "nw = []\n",
    "\n",
    "for idx, i in enumerate(y_test):\n",
    "    \n",
    "    if i == 2:\n",
    "        image = tf.expand_dims(X_test[idx], axis=0)\n",
    "        predictions=model.predict(image)\n",
    "        prediction = np.argmax(predictions)\n",
    "\n",
    "        if prediction == 1:\n",
    "            print('Mask')\n",
    "            mask.append(idx)\n",
    "            \n",
    "        elif prediction  == 2:\n",
    "            print('No mask')\n",
    "            no_mask.append(idx)\n",
    "            \n",
    "        elif prediction == 0:\n",
    "            print('Not worn correctly')\n",
    "            nw.append(idx)"
   ]
  },
  {
   "cell_type": "code",
   "execution_count": 36,
   "id": "91bd71ec",
   "metadata": {},
   "outputs": [
    {
     "data": {
      "text/plain": [
       "201"
      ]
     },
     "execution_count": 36,
     "metadata": {},
     "output_type": "execute_result"
    }
   ],
   "source": [
    "len(no_mask)"
   ]
  },
  {
   "cell_type": "code",
   "execution_count": 37,
   "id": "2267879f",
   "metadata": {},
   "outputs": [
    {
     "data": {
      "text/plain": [
       "16"
      ]
     },
     "execution_count": 37,
     "metadata": {},
     "output_type": "execute_result"
    }
   ],
   "source": [
    "len(mask)"
   ]
  }
 ],
 "metadata": {
  "kernelspec": {
   "display_name": "Python 3 (ipykernel)",
   "language": "python",
   "name": "python3"
  },
  "language_info": {
   "codemirror_mode": {
    "name": "ipython",
    "version": 3
   },
   "file_extension": ".py",
   "mimetype": "text/x-python",
   "name": "python",
   "nbconvert_exporter": "python",
   "pygments_lexer": "ipython3",
   "version": "3.11.4"
  }
 },
 "nbformat": 4,
 "nbformat_minor": 5
}
